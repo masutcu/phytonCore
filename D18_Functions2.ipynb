{
 "cells": [
  {
   "cell_type": "markdown",
   "metadata": {},
   "source": [
    "## Positional and Keyword Arguments"
   ]
  },
  {
   "cell_type": "code",
   "execution_count": 1,
   "metadata": {},
   "outputs": [],
   "source": [
    "def my_name(firstName, lastName):\n",
    "    print (f\"My name is {firstName} {lastName}\")"
   ]
  },
  {
   "cell_type": "code",
   "execution_count": 2,
   "metadata": {},
   "outputs": [
    {
     "name": "stdout",
     "output_type": "stream",
     "text": [
      "My name is Mehmet Sutcu\n"
     ]
    }
   ],
   "source": [
    "my_name(\"Mehmet\",\"Sutcu\")"
   ]
  },
  {
   "cell_type": "code",
   "execution_count": 4,
   "metadata": {},
   "outputs": [
    {
     "name": "stdout",
     "output_type": "stream",
     "text": [
      "My name is Ali Sutcu\n"
     ]
    }
   ],
   "source": [
    "my_name(lastName=\"Sutcu\", firstName=\"Ali\") # parametreler belirtilerek ters yazılabilir"
   ]
  },
  {
   "cell_type": "code",
   "execution_count": 5,
   "metadata": {},
   "outputs": [],
   "source": [
    "def your_name(firstName, lastName=\"Sütçü\"):   # last name i default değer atadık, default değerler en sonda tanımlanır\n",
    "    print(f\"Your name is {firstName} {lastName}\")"
   ]
  },
  {
   "cell_type": "code",
   "execution_count": 6,
   "metadata": {},
   "outputs": [
    {
     "name": "stdout",
     "output_type": "stream",
     "text": [
      "Your name is ömer Sütçü\n"
     ]
    }
   ],
   "source": [
    "your_name(\"ömer\")"
   ]
  },
  {
   "cell_type": "code",
   "execution_count": 7,
   "metadata": {},
   "outputs": [
    {
     "name": "stdout",
     "output_type": "stream",
     "text": [
      "Your name is Ömer Kaan\n"
     ]
    }
   ],
   "source": [
    "your_name(\"Ömer\", \"Kaan\")  # default değer yeni atama ile değişebilir"
   ]
  },
  {
   "cell_type": "code",
   "execution_count": 10,
   "metadata": {},
   "outputs": [],
   "source": [
    "def tek_sayılar(a,b,c,d,e):\n",
    "    tek_sayılar=[]\n",
    "    for i in a,b,c,d,e:\n",
    "        if i%2:\n",
    "            tek_sayılar.append(i)\n",
    "    return tek_sayılar"
   ]
  },
  {
   "cell_type": "markdown",
   "metadata": {},
   "source": [
    "### Arbitrary (Rastgele) Number of Arguments = Java da varargs (various arguments)\n",
    "#### args"
   ]
  },
  {
   "cell_type": "code",
   "execution_count": 12,
   "metadata": {},
   "outputs": [],
   "source": [
    "def tek_sayılar(* sayılar):\n",
    "    tek_sayılar=[]\n",
    "    for i in sayılar:\n",
    "        if i%2:\n",
    "            tek_sayılar.append(i)\n",
    "    return tek_sayılar"
   ]
  },
  {
   "cell_type": "code",
   "execution_count": 13,
   "metadata": {},
   "outputs": [
    {
     "data": {
      "text/plain": [
       "[5, 15, 23]"
      ]
     },
     "execution_count": 13,
     "metadata": {},
     "output_type": "execute_result"
    }
   ],
   "source": [
    "tek_sayılar(2,5,15,16,18,23)"
   ]
  },
  {
   "cell_type": "code",
   "execution_count": 18,
   "metadata": {},
   "outputs": [],
   "source": [
    "def tek_çift(* sayılar):\n",
    "    result=[]\n",
    "    for i in sayılar:\n",
    "        if i%2==0:\n",
    "            result.append(i*2)\n",
    "        else:\n",
    "            result.append(i**2)\n",
    "    return result"
   ]
  },
  {
   "cell_type": "code",
   "execution_count": 19,
   "metadata": {},
   "outputs": [],
   "source": [
    "def tek_cift_2(* sayılar):\n",
    "    return [ i*2 if i%2==0 else i**2 for i in sayılar]"
   ]
  },
  {
   "cell_type": "code",
   "execution_count": 16,
   "metadata": {},
   "outputs": [
    {
     "data": {
      "text/plain": [
       "[4, 25, 12, 16, 81]"
      ]
     },
     "execution_count": 16,
     "metadata": {},
     "output_type": "execute_result"
    }
   ],
   "source": [
    "tek_çift(2,5,6,8,9)"
   ]
  },
  {
   "cell_type": "code",
   "execution_count": 20,
   "metadata": {},
   "outputs": [
    {
     "data": {
      "text/plain": [
       "[4, 25, 12, 16, 81]"
      ]
     },
     "execution_count": 20,
     "metadata": {},
     "output_type": "execute_result"
    }
   ],
   "source": [
    "tek_cift_2(2,5,6,8,9)"
   ]
  },
  {
   "cell_type": "code",
   "execution_count": 21,
   "metadata": {},
   "outputs": [
    {
     "data": {
      "text/plain": [
       "[4, 9, 8, 25, 12, 49, 16, 81]"
      ]
     },
     "execution_count": 21,
     "metadata": {},
     "output_type": "execute_result"
    }
   ],
   "source": [
    "tek_cift_2(* range(2,10)) # range kullanıldığında da * kullanılmalıdır."
   ]
  },
  {
   "cell_type": "markdown",
   "metadata": {},
   "source": [
    "### keyword args"
   ]
  },
  {
   "cell_type": "code",
   "execution_count": 22,
   "metadata": {},
   "outputs": [
    {
     "data": {
      "text/plain": [
       "{'name1': 'seyda', 'name2': 'ali', 'name3': 'veli'}"
      ]
     },
     "execution_count": 22,
     "metadata": {},
     "output_type": "execute_result"
    }
   ],
   "source": [
    "dict_1={\"name1\": \"seyda\", \"name2\": \"ali\", \"name3\": \"veli\"}\n",
    "dict_1"
   ]
  },
  {
   "cell_type": "code",
   "execution_count": 26,
   "metadata": {},
   "outputs": [],
   "source": [
    "def kwaergs_function(**kwargs):  # burada arg ın bir dict olduğunu tanımlıyoruz\n",
    "    for i,j in kwargs.items():\n",
    "        print(f\"key: {i}, value:{j}\")"
   ]
  },
  {
   "cell_type": "code",
   "execution_count": 27,
   "metadata": {},
   "outputs": [
    {
     "name": "stdout",
     "output_type": "stream",
     "text": [
      "key: name4, value:hasan\n",
      "key: name5, value:cemil\n"
     ]
    }
   ],
   "source": [
    "kwaergs_function(name4=\"hasan\", name5=\"cemil\")"
   ]
  },
  {
   "cell_type": "markdown",
   "metadata": {},
   "source": [
    "##### soru: Anne, baba ve çocuktan oluşan çekirdek ailenin Süper aile olup olmadığını bulan kodu yazın. isimleri kullanıcıdan isteyin. (Çocuğun ismindeki sessiz harflerin hepsi, anne ve babanın isimlerinde var ise bu aile süper ailedir.(Not: anne ve baba isminden en az bir tane olmalı.). örn1: baba adı = \"Halil\", anne adı= \"Merve\", çocuk adı= \"Veli\" >> Süper aile. (\"v\" anneden, \"l\" babadan) örn2: baba adı = \"Murat\", anne adı= \"Songül\", çocuk adı= \"Mert\" >> Süper aile değil. Anneden harf yok."
   ]
  },
  {
   "cell_type": "code",
   "execution_count": 15,
   "metadata": {},
   "outputs": [
    {
     "name": "stdout",
     "output_type": "stream",
     "text": [
      "baba: ['h', 'm', 't'], anne: ['l', 'f'], cocuk: ['r', 'm', 'z', 'n']\n",
      "süper aile değildir\n"
     ]
    }
   ],
   "source": [
    "baba=input(\"baba ismini giriniz\").lower()\n",
    "anne=input(\"anne ismini giriniz\").lower()\n",
    "cocuk=input(\"cocuk ismini giriniz\").lower()\n",
    "\n",
    "cocuk_sessiz=[]\n",
    "baba_sessiz=[]\n",
    "anne_sessiz=[]\n",
    "\n",
    "sessizler=\"bcçdfgğhjklmnprsştvyz\"\n",
    "\n",
    "for harf in baba:\n",
    "    if harf in sessizler:\n",
    "        baba_sessiz+=harf\n",
    "for harf in anne:\n",
    "    if harf in sessizler:\n",
    "        anne_sessiz+=harf\n",
    "for harf in cocuk:\n",
    "    if harf in sessizler:\n",
    "        cocuk_sessiz+=harf\n",
    "print(f\"baba: {baba_sessiz}, anne: {anne_sessiz}, cocuk: {cocuk_sessiz}\")\n",
    "\n",
    "babaSet=set(baba_sessiz)\n",
    "anneSet=set(anne_sessiz)\n",
    "cocukSet=set(cocuk_sessiz)\n",
    "\n",
    "if babaSet&cocukSet!=None and anneSet&cocukSet!=None:\n",
    "    if  (babaSet  | anneSet ) & cocukSet == cocukSet:\n",
    "        print(\"Bu bir süper ailedir\")\n",
    "    else:\n",
    "        print(\"süper aile değildir\") "
   ]
  }
 ],
 "metadata": {
  "kernelspec": {
   "display_name": "Python 3",
   "language": "python",
   "name": "python3"
  },
  "language_info": {
   "codemirror_mode": {
    "name": "ipython",
    "version": 3
   },
   "file_extension": ".py",
   "mimetype": "text/x-python",
   "name": "python",
   "nbconvert_exporter": "python",
   "pygments_lexer": "ipython3",
   "version": "3.12.1"
  }
 },
 "nbformat": 4,
 "nbformat_minor": 2
}
