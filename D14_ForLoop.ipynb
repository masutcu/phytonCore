{
 "cells": [
  {
   "cell_type": "markdown",
   "metadata": {},
   "source": [
    "# For Loop"
   ]
  },
  {
   "cell_type": "code",
   "execution_count": 1,
   "metadata": {},
   "outputs": [
    {
     "name": "stdout",
     "output_type": "stream",
     "text": [
      "t\n",
      "e\n",
      "c\n",
      "h\n",
      "p\n",
      "r\n",
      "o\n"
     ]
    }
   ],
   "source": [
    "# for döngüsü iterable ile çalışır.\n",
    "for i in \"techpro\":\n",
    "    print(i)"
   ]
  },
  {
   "cell_type": "code",
   "execution_count": 2,
   "metadata": {},
   "outputs": [
    {
     "name": "stdout",
     "output_type": "stream",
     "text": [
      "1\n",
      "4\n",
      "9\n",
      "16\n"
     ]
    }
   ],
   "source": [
    "liste_3=[1,2,3,4]\n",
    "for i in liste_3:\n",
    "    print(i**2)"
   ]
  },
  {
   "cell_type": "code",
   "execution_count": 3,
   "metadata": {},
   "outputs": [
    {
     "data": {
      "text/plain": [
       "False"
      ]
     },
     "execution_count": 3,
     "metadata": {},
     "output_type": "execute_result"
    }
   ],
   "source": [
    "\"a\" in \"hello\""
   ]
  },
  {
   "cell_type": "code",
   "execution_count": 4,
   "metadata": {},
   "outputs": [
    {
     "name": "stdout",
     "output_type": "stream",
     "text": [
      "1 karesi: 1\n",
      "2 karesi: 4\n",
      "3 karesi: 9\n",
      "4 karesi: 16\n"
     ]
    }
   ],
   "source": [
    "for i in (1,2,3,4):\n",
    "    print(f\"{i} karesi: {i**2}\")"
   ]
  },
  {
   "cell_type": "code",
   "execution_count": 7,
   "metadata": {},
   "outputs": [
    {
     "data": {
      "text/plain": [
       "'2535'"
      ]
     },
     "execution_count": 7,
     "metadata": {},
     "output_type": "execute_result"
    }
   ],
   "source": [
    "intToStr1=2535\n",
    "str(intToStr1)"
   ]
  },
  {
   "cell_type": "code",
   "execution_count": 9,
   "metadata": {},
   "outputs": [
    {
     "name": "stdout",
     "output_type": "stream",
     "text": [
      "Ali-Veli-Cem-Can-"
     ]
    }
   ],
   "source": [
    "names= [\"ali\",\"veli\",\"cem\",\"can\"]\n",
    "\n",
    "for i in names:\n",
    "    print(i.capitalize(), end='-')"
   ]
  },
  {
   "cell_type": "code",
   "execution_count": 19,
   "metadata": {},
   "outputs": [
    {
     "name": "stdout",
     "output_type": "stream",
     "text": [
      "T-e-c-h-p-r-o-"
     ]
    }
   ],
   "source": [
    "str2=\"Techpro\"\n",
    "for i in str2:\n",
    "    print(i, end=\"-\")"
   ]
  },
  {
   "cell_type": "code",
   "execution_count": 20,
   "metadata": {},
   "outputs": [],
   "source": [
    "dict1={\"name\": \"dilek\", \"age\": 26, \"job\": \"datascientist\"}"
   ]
  },
  {
   "cell_type": "code",
   "execution_count": 21,
   "metadata": {},
   "outputs": [
    {
     "name": "stdout",
     "output_type": "stream",
     "text": [
      "name\n",
      "age\n",
      "job\n"
     ]
    }
   ],
   "source": [
    "# for loop içinde dict kullanılırsa key ile işlem yapar\n",
    "for i in dict1:\n",
    "    print(i)"
   ]
  },
  {
   "cell_type": "code",
   "execution_count": 23,
   "metadata": {},
   "outputs": [
    {
     "name": "stdout",
     "output_type": "stream",
     "text": [
      "dilek\n",
      "26\n",
      "datascientist\n"
     ]
    }
   ],
   "source": [
    "# value ler ile işlem yapmak için values() ile çağrılır.\n",
    "for i in dict1.values():\n",
    "    print(i)"
   ]
  },
  {
   "cell_type": "code",
   "execution_count": 24,
   "metadata": {},
   "outputs": [
    {
     "name": "stdout",
     "output_type": "stream",
     "text": [
      "('name', 'dilek')\n",
      "('age', 26)\n",
      "('job', 'datascientist')\n"
     ]
    }
   ],
   "source": [
    "# her elemanı için items() kullanılır. sonuç tuple döner\n",
    "for i in dict1.items():\n",
    "    print(i)"
   ]
  },
  {
   "cell_type": "code",
   "execution_count": 26,
   "metadata": {},
   "outputs": [
    {
     "name": "stdout",
     "output_type": "stream",
     "text": [
      "name : dilek\n",
      "name : dilek\n",
      "age : 26\n",
      "age : 26\n",
      "job : datascientist\n",
      "job : datascientist\n"
     ]
    }
   ],
   "source": [
    "#veya değişkenleride ayırabiliriz\n",
    "for i, j in dict1.items():\n",
    "    print(f\"{i} : {j}\")\n",
    "    print(i, j, sep=\" : \")"
   ]
  },
  {
   "cell_type": "markdown",
   "metadata": {},
   "source": [
    "### print f ile tab lı yazdırım"
   ]
  },
  {
   "cell_type": "code",
   "execution_count": 27,
   "metadata": {},
   "outputs": [],
   "source": [
    "dict2={\"name\": \"dilek\", \"surname\": \"yılmaz\", \"age\": 26, \"job\": \"datascientist\"}"
   ]
  },
  {
   "cell_type": "code",
   "execution_count": 40,
   "metadata": {},
   "outputs": [
    {
     "name": "stdout",
     "output_type": "stream",
     "text": [
      "key:      name, value:     dilek     \n",
      "key:   surname, value:    yılmaz     \n",
      "key:       age, value:      26       \n",
      "key:       job, value: datascientist \n"
     ]
    }
   ],
   "source": [
    "for i, j in dict2.items():\n",
    "    print(f\"key:{i:>10}, value:{j:^15}\")"
   ]
  },
  {
   "cell_type": "code",
   "execution_count": 41,
   "metadata": {},
   "outputs": [
    {
     "data": {
      "text/plain": [
       "'      techpro       '"
      ]
     },
     "execution_count": 41,
     "metadata": {},
     "output_type": "execute_result"
    }
   ],
   "source": [
    "\"techpro\".center(20)"
   ]
  },
  {
   "cell_type": "code",
   "execution_count": 42,
   "metadata": {},
   "outputs": [
    {
     "data": {
      "text/plain": [
       "'     techpro'"
      ]
     },
     "execution_count": 42,
     "metadata": {},
     "output_type": "execute_result"
    }
   ],
   "source": [
    "\"techpro\".rjust(12)"
   ]
  },
  {
   "cell_type": "code",
   "execution_count": 43,
   "metadata": {},
   "outputs": [
    {
     "data": {
      "text/plain": [
       "'techpro     '"
      ]
     },
     "execution_count": 43,
     "metadata": {},
     "output_type": "execute_result"
    }
   ],
   "source": [
    "\"techpro\".ljust(12)"
   ]
  },
  {
   "cell_type": "markdown",
   "metadata": {},
   "source": [
    "### soru: 15 defa kaçıncı kez olduğuda yazacak şekilde bir str yazdır"
   ]
  },
  {
   "cell_type": "code",
   "execution_count": 52,
   "metadata": {},
   "outputs": [
    {
     "name": "stdout",
     "output_type": "stream",
     "text": [
      "1. Hoca bize ceza verdi \n",
      "2. Hoca bize ceza verdi \n",
      "3. Hoca bize ceza verdi \n",
      "4. Hoca bize ceza verdi \n",
      "5. Hoca bize ceza verdi \n",
      "6. Hoca bize ceza verdi \n",
      "7. Hoca bize ceza verdi \n",
      "8. Hoca bize ceza verdi \n",
      "9. Hoca bize ceza verdi \n",
      "10. Hoca bize ceza verdi \n",
      "11. Hoca bize ceza verdi \n",
      "12. Hoca bize ceza verdi \n",
      "13. Hoca bize ceza verdi \n",
      "14. Hoca bize ceza verdi \n",
      "15. Hoca bize ceza verdi \n"
     ]
    }
   ],
   "source": [
    "ceza=\"Hoca bize ceza verdi\"\n",
    "count=1\n",
    "for i in range(15):\n",
    "    print(f\"{count}. {ceza} \")\n",
    "    count+=1\n",
    "   \n"
   ]
  },
  {
   "cell_type": "markdown",
   "metadata": {},
   "source": [
    "### Ödev 1: Kullanıcıdan 1 ve 9 dahil bir sayı isteyin,  bu sayıların çarpım tablosunu olşturun. 8 girildi 8*1=8, 8*2=16"
   ]
  },
  {
   "cell_type": "code",
   "execution_count": 3,
   "metadata": {},
   "outputs": [
    {
     "name": "stdout",
     "output_type": "stream",
     "text": [
      "Girdiğiniz sayı 1 ile 9 arasında değildir.\n"
     ]
    }
   ],
   "source": [
    "sayı=int(input(\"1 ile 10 arsında (10 hariç) bir sayı giriniz.\"))\n",
    "if 1<= sayı <=9:\n",
    "    for i in range (1,11):\n",
    "        print(f\"{sayı} x {i} = {sayı*i}\")\n",
    "else: print('Girdiğiniz sayı 1 ile 9 arasında değildir.')  "
   ]
  },
  {
   "cell_type": "markdown",
   "metadata": {},
   "source": [
    "### Ödev 2: Kullanıcıdan 1 ve 9 dahil bir sayı isteyin,  bu sayıların çarpım tablosunu olşturun. Kullanıcı  doğru değer girmez ise tekrar isteyin"
   ]
  },
  {
   "cell_type": "code",
   "execution_count": 7,
   "metadata": {},
   "outputs": [
    {
     "name": "stdout",
     "output_type": "stream",
     "text": [
      "5 x 1  =   5\n",
      "5 x 2  =  10\n",
      "5 x 3  =  15\n",
      "5 x 4  =  20\n",
      "5 x 5  =  25\n",
      "5 x 6  =  30\n",
      "5 x 7  =  35\n",
      "5 x 8  =  40\n",
      "5 x 9  =  45\n",
      "5 x 10 =  50\n"
     ]
    }
   ],
   "source": [
    "\n",
    "while True:\n",
    "    sayı=int(input(\"1 ile 10 arsında (10 hariç) bir sayı giriniz.\"))\n",
    "    \n",
    "    if 1<= sayı <=9:\n",
    "        for i in range (1,11):\n",
    "            print(f\"{sayı} x {i:<2} = {sayı*i:>3}\")\n",
    "        break\n",
    "    else: \n",
    "        print('Girdiğiniz sayı 1 ile 9 arasında değildir.Tekrar sayı girin.')  "
   ]
  },
  {
   "cell_type": "markdown",
   "metadata": {},
   "source": [
    "### deneme hakkı 3 olsun\n"
   ]
  },
  {
   "cell_type": "code",
   "execution_count": 9,
   "metadata": {},
   "outputs": [
    {
     "name": "stdout",
     "output_type": "stream",
     "text": [
      "Girdiğiniz sayı 1 ile 9 arasında değildir.Tekrar sayı girin.\n",
      "Girdiğiniz sayı 1 ile 9 arasında değildir.Tekrar sayı girin.\n",
      "Girdiğiniz sayı 1 ile 9 arasında değildir.Tekrar sayı girin.\n",
      "3 deneme hakkınız bitti\n"
     ]
    }
   ],
   "source": [
    "sayaç=0\n",
    "while True:\n",
    "    sayı=int(input(\"1 ile 10 arsında (10 hariç) bir sayı giriniz.\"))\n",
    "    sayaç+=1\n",
    "    if 1<= sayı <=9:\n",
    "        for i in range (1,11):\n",
    "            print(f\"{sayı} x {i:<2} = {sayı*i:>3}\")\n",
    "        break\n",
    "    else: \n",
    "        print('Girdiğiniz sayı 1 ile 9 arasında değildir.Tekrar sayı girin.') \n",
    "    if sayaç==3:\n",
    "        print('3 deneme hakkınız bitti')\n",
    "        break "
   ]
  },
  {
   "cell_type": "markdown",
   "metadata": {},
   "source": [
    "### 1 dn 5 ye kadar olan sayıların  toplamı\n"
   ]
  },
  {
   "cell_type": "code",
   "execution_count": 15,
   "metadata": {},
   "outputs": [
    {
     "name": "stdout",
     "output_type": "stream",
     "text": [
      "1275\n"
     ]
    }
   ],
   "source": [
    "toplam=0\n",
    "for i in range(1,51):\n",
    "    toplam+=i\n",
    "print (toplam)"
   ]
  },
  {
   "cell_type": "code",
   "execution_count": 11,
   "metadata": {},
   "outputs": [
    {
     "data": {
      "text/plain": [
       "1275"
      ]
     },
     "execution_count": 11,
     "metadata": {},
     "output_type": "execute_result"
    }
   ],
   "source": [
    "sum(range(1,51))"
   ]
  },
  {
   "cell_type": "code",
   "execution_count": 12,
   "metadata": {},
   "outputs": [
    {
     "data": {
      "text/plain": [
       "15"
      ]
     },
     "execution_count": 12,
     "metadata": {},
     "output_type": "execute_result"
    }
   ],
   "source": [
    "sum([1,2,3,4,5])"
   ]
  },
  {
   "cell_type": "code",
   "execution_count": 13,
   "metadata": {},
   "outputs": [
    {
     "data": {
      "text/plain": [
       "15"
      ]
     },
     "execution_count": 13,
     "metadata": {},
     "output_type": "execute_result"
    }
   ],
   "source": [
    "sum((1,2,3,4,5))"
   ]
  },
  {
   "cell_type": "code",
   "execution_count": 14,
   "metadata": {},
   "outputs": [
    {
     "data": {
      "text/plain": [
       "106"
      ]
     },
     "execution_count": 14,
     "metadata": {},
     "output_type": "execute_result"
    }
   ],
   "source": [
    "# sum fonksiyonunun default değeri 0 dır. parantez içerisinde bir sayı belirtilirse onun üzerine toplar\n",
    "sum([1,2,3], 100)"
   ]
  },
  {
   "cell_type": "markdown",
   "metadata": {},
   "source": [
    "### birden 50 ye kadar çift sayıları topla"
   ]
  },
  {
   "cell_type": "code",
   "execution_count": 16,
   "metadata": {},
   "outputs": [
    {
     "name": "stdout",
     "output_type": "stream",
     "text": [
      "650\n"
     ]
    }
   ],
   "source": [
    "toplam = 0\n",
    "for i in range(0,51,2):\n",
    "    toplam+=i\n",
    "print(toplam)"
   ]
  },
  {
   "cell_type": "code",
   "execution_count": 17,
   "metadata": {},
   "outputs": [
    {
     "data": {
      "text/plain": [
       "650"
      ]
     },
     "execution_count": 17,
     "metadata": {},
     "output_type": "execute_result"
    }
   ],
   "source": [
    "sum(range(0,51,2))"
   ]
  },
  {
   "cell_type": "markdown",
   "metadata": {},
   "source": [
    "## break and continue"
   ]
  },
  {
   "cell_type": "code",
   "execution_count": 18,
   "metadata": {},
   "outputs": [],
   "source": [
    "liste1=[1,2,3,4,5]\n"
   ]
  },
  {
   "cell_type": "markdown",
   "metadata": {},
   "source": [
    "### 3 ve 3 ün katında kod bitsin. geri kalanda karesini alsın"
   ]
  },
  {
   "cell_type": "code",
   "execution_count": null,
   "metadata": {},
   "outputs": [],
   "source": [
    "for i in liste1:\n",
    "    if i%3==0:\n",
    "        break\n",
    "    else:\n",
    "        print(i**2)"
   ]
  },
  {
   "cell_type": "markdown",
   "metadata": {},
   "source": [
    "### 3 ve 3 ün katında kod devam etsin. diğer durumlarda sayıların karesini yazdır"
   ]
  },
  {
   "cell_type": "code",
   "execution_count": 19,
   "metadata": {},
   "outputs": [
    {
     "name": "stdout",
     "output_type": "stream",
     "text": [
      "1\n",
      "4\n",
      "16\n",
      "25\n"
     ]
    }
   ],
   "source": [
    "for i in liste1:\n",
    "    if i%3==0:\n",
    "        continue\n",
    "    else:\n",
    "        print(i**2)"
   ]
  },
  {
   "cell_type": "code",
   "execution_count": 21,
   "metadata": {},
   "outputs": [
    {
     "name": "stdout",
     "output_type": "stream",
     "text": [
      "Çift Sayıların Toplamı :  650\n"
     ]
    }
   ],
   "source": [
    "# çift sayıların toplamı 1 50 arası\n",
    "toplam=0\n",
    "for i in range(1,51):\n",
    "    if i % 2 == 1:\n",
    "        continue\n",
    "    else:\n",
    "        toplam +=i\n",
    "print(\"Çift Sayıların Toplamı : \",toplam)"
   ]
  },
  {
   "cell_type": "markdown",
   "metadata": {},
   "source": [
    "# zip () fonksiyonu"
   ]
  },
  {
   "cell_type": "code",
   "execution_count": null,
   "metadata": {},
   "outputs": [],
   "source": [
    "# zip iterable lerle çalışır ve iterable sonuç döner"
   ]
  },
  {
   "cell_type": "code",
   "execution_count": 22,
   "metadata": {},
   "outputs": [
    {
     "data": {
      "text/plain": [
       "<zip at 0x22de238b980>"
      ]
     },
     "execution_count": 22,
     "metadata": {},
     "output_type": "execute_result"
    }
   ],
   "source": [
    "a= [\"apple\", \"orange\", \"lemon\"]\n",
    "b= [1, 2, 3]\n",
    "zip(a,b)"
   ]
  },
  {
   "cell_type": "code",
   "execution_count": 23,
   "metadata": {},
   "outputs": [
    {
     "data": {
      "text/plain": [
       "[('apple', 1), ('orange', 2), ('lemon', 3)]"
      ]
     },
     "execution_count": 23,
     "metadata": {},
     "output_type": "execute_result"
    }
   ],
   "source": [
    "list(zip(a,b))"
   ]
  },
  {
   "cell_type": "code",
   "execution_count": 25,
   "metadata": {},
   "outputs": [
    {
     "data": {
      "text/plain": [
       "[('T', 'A', 'e'), ('e', 'h', 'l'), ('c', 'm', 'i'), ('h', 'e', 'f')]"
      ]
     },
     "execution_count": 25,
     "metadata": {},
     "output_type": "execute_result"
    }
   ],
   "source": [
    "x=\"Techpro\"\n",
    "y=\"Ahmet\"\n",
    "z=\"elif\"\n",
    "list(zip(x,y,z))\n",
    "# en az sayıda elemanı olana göre  zipleme yapıyor."
   ]
  },
  {
   "cell_type": "code",
   "execution_count": 26,
   "metadata": {},
   "outputs": [
    {
     "data": {
      "text/plain": [
       "{'apple': 1, 'orange': 2, 'lemon': 3}"
      ]
     },
     "execution_count": 26,
     "metadata": {},
     "output_type": "execute_result"
    }
   ],
   "source": [
    "dict(zip(a,b)) # ditc() ile kullanılırsa dict türüne çevirebiliriz"
   ]
  },
  {
   "cell_type": "code",
   "execution_count": 27,
   "metadata": {},
   "outputs": [],
   "source": [
    "name=[\"irem\",\"betül\",\"Tülay\"]\n",
    "age=[25,26,27]\n",
    "job=[\"data_scientist\",\"pyhton_devoloper\",\"data_analyst\"]"
   ]
  },
  {
   "cell_type": "code",
   "execution_count": 28,
   "metadata": {},
   "outputs": [
    {
     "data": {
      "text/plain": [
       "[('irem', 25, 'data_scientist'),\n",
       " ('betül', 26, 'pyhton_devoloper'),\n",
       " ('Tülay', 27, 'data_analyst')]"
      ]
     },
     "execution_count": 28,
     "metadata": {},
     "output_type": "execute_result"
    }
   ],
   "source": [
    "list(zip(name,age,job))"
   ]
  },
  {
   "cell_type": "code",
   "execution_count": 29,
   "metadata": {},
   "outputs": [
    {
     "name": "stdout",
     "output_type": "stream",
     "text": [
      "name: irem  , age: 25, job: data_scientist\n",
      "name: betül , age: 26, job: pyhton_devoloper\n",
      "name: Tülay , age: 27, job: data_analyst\n"
     ]
    }
   ],
   "source": [
    "for i,j,k in zip(name,age,job):\n",
    "    print (f\"name: {i:<6}, age: {j}, job: {k}\")"
   ]
  },
  {
   "cell_type": "markdown",
   "metadata": {},
   "source": [
    "# enumerate()"
   ]
  },
  {
   "cell_type": "code",
   "execution_count": 30,
   "metadata": {},
   "outputs": [
    {
     "data": {
      "text/plain": [
       "['irem', 'betül', 'Tülay']"
      ]
     },
     "execution_count": 30,
     "metadata": {},
     "output_type": "execute_result"
    }
   ],
   "source": [
    "name"
   ]
  },
  {
   "cell_type": "code",
   "execution_count": 31,
   "metadata": {},
   "outputs": [
    {
     "data": {
      "text/plain": [
       "<enumerate at 0x22de2321b70>"
      ]
     },
     "execution_count": 31,
     "metadata": {},
     "output_type": "execute_result"
    }
   ],
   "source": [
    "enumerate(name)"
   ]
  },
  {
   "cell_type": "code",
   "execution_count": 32,
   "metadata": {},
   "outputs": [
    {
     "data": {
      "text/plain": [
       "[(0, 'irem'), (1, 'betül'), (2, 'Tülay')]"
      ]
     },
     "execution_count": 32,
     "metadata": {},
     "output_type": "execute_result"
    }
   ],
   "source": [
    "list(enumerate(name))"
   ]
  },
  {
   "cell_type": "code",
   "execution_count": 33,
   "metadata": {},
   "outputs": [
    {
     "data": {
      "text/plain": [
       "[(100, 'irem'), (101, 'betül'), (102, 'Tülay')]"
      ]
     },
     "execution_count": 33,
     "metadata": {},
     "output_type": "execute_result"
    }
   ],
   "source": [
    "list(enumerate(name, 100))"
   ]
  },
  {
   "cell_type": "markdown",
   "metadata": {},
   "source": [
    "### soru: list içindeki kayıp sayıları bulun"
   ]
  },
  {
   "cell_type": "code",
   "execution_count": 34,
   "metadata": {},
   "outputs": [],
   "source": [
    "number_list = [48, 10, 11, 21, 36, 5, 6, 52, 28, 29,\n",
    "       53, 54, 45, 19, 20, 47, 55, 39, 41, 7,\n",
    "       9, 17, 26, 27, 42, 22, 37, 51, 46, 18,\n",
    "       44, 30, 34, 13, 15, 35, 33, 16, 50, 24]"
   ]
  },
  {
   "cell_type": "markdown",
   "metadata": {},
   "source": [
    "### 1. yöntem"
   ]
  },
  {
   "cell_type": "code",
   "execution_count": 48,
   "metadata": {},
   "outputs": [
    {
     "name": "stdout",
     "output_type": "stream",
     "text": [
      "[8, 12, 14, 23, 25, 31, 32, 38, 40, 43, 49]\n"
     ]
    }
   ],
   "source": [
    "max1=max(number_list)\n",
    "min1=min(number_list)\n",
    "\n",
    "kayıpSayılar=[]\n",
    "\n",
    "for i in range(min1,max1):\n",
    "    if i not in number_list:\n",
    "        kayıpSayılar.append(i)\n",
    "print(kayıpSayılar)\n",
    "\n"
   ]
  },
  {
   "cell_type": "markdown",
   "metadata": {},
   "source": [
    "### 2. yöntem"
   ]
  },
  {
   "cell_type": "code",
   "execution_count": 53,
   "metadata": {},
   "outputs": [
    {
     "name": "stdout",
     "output_type": "stream",
     "text": [
      "[8, 12, 14, 23, 25, 31, 32, 38, 40, 43, 49]\n"
     ]
    }
   ],
   "source": [
    "max1=max(number_list)\n",
    "min1=min(number_list)\n",
    "\n",
    "kayıpSayılar=[]\n",
    "\n",
    "for i in range(min1,max1):\n",
    "    if i in number_list:\n",
    "        continue\n",
    "    kayıpSayılar.append(i)\n",
    "print(kayıpSayılar)\n"
   ]
  },
  {
   "cell_type": "markdown",
   "metadata": {},
   "source": [
    "### 3. yöntem"
   ]
  },
  {
   "cell_type": "code",
   "execution_count": 52,
   "metadata": {},
   "outputs": [
    {
     "data": {
      "text/plain": [
       "{8, 12, 14, 23, 25, 31, 32, 38, 40, 43, 49}"
      ]
     },
     "execution_count": 52,
     "metadata": {},
     "output_type": "execute_result"
    }
   ],
   "source": [
    "# kümeler ile \n",
    "\n",
    "max1=max(number_list)\n",
    "min1=min(number_list)\n",
    "\n",
    "fullSet=set(range(min1,max1))\n",
    "number_set= set(number_list)\n",
    "\n",
    "fullSet - number_set\n",
    "   \n"
   ]
  },
  {
   "cell_type": "markdown",
   "metadata": {},
   "source": [
    "#### ÖDEV: Bir markete gittiniz. Markette her ürünün bir kod numarası var. 1 : Elma 2 : Portakal 3 : Çilek 4 : Yumurta 5 : Havuç 6 : Armut ... vs. şeklinde. Kullanıcıya almak istediği ürünü sorunuz ve kod numarası ile seçim yaptırınız. Çıkış için \"q\" opsiyonunu sununuz. Kullanıcının her ürün seçimi sonrası \" .... elma sepete eklendi\" gibi bir dönüt veriniz. Kullanıcı ürün almaya devam ettikçe ürünleri bir listede toplayınız, almaktan vazgeçtiği durumda teşekkür edip, aldığı toplam ürünleri çıktı veren bir kod yazınız. Çıktı: Teşekkür Ederiz... Sepetinizde Bulunan Ürünler: elma, armut, yumurta ... vs."
   ]
  },
  {
   "cell_type": "code",
   "execution_count": 1,
   "metadata": {},
   "outputs": [
    {
     "name": "stdout",
     "output_type": "stream",
     "text": [
      "Marketimize Hoş geldiniz\n",
      "Ürünlerimiz:\n",
      "1 : \"Elma\",\n",
      "2 : \"Portakal\",\n",
      "3 : \"Çilek\", \n",
      "4 : \"Yumurta\",\n",
      "5 : \"Havuç\",\n",
      "6 : \"Armut\"     \n",
      "      \n",
      "Sepete Çilek eklendi\n",
      "Sepete Armut eklendi\n",
      "Sepete Portakal eklendi\n",
      "Sepete Elma eklendi\n",
      "Bizi tercih ettiğiniz için teşekkürler\n",
      "Almış olduğunuz ürünler: ['Çilek', 'Armut', 'Portakal', 'Elma']\n"
     ]
    }
   ],
   "source": [
    "ürünler = {1 : \"Elma\", 2 : \"Portakal\", 3 : \"Çilek\", 4 : \"Yumurta\", 5 : \"Havuç\", 6 : \"Armut\"}\n",
    "\n",
    "print(\"Marketimize Hoş geldiniz\")\n",
    "\n",
    "print(\"\"\"Ürünlerimiz:\n",
    "1 : \"Elma\",\n",
    "2 : \"Portakal\",\n",
    "3 : \"Çilek\", \n",
    "4 : \"Yumurta\",\n",
    "5 : \"Havuç\",\n",
    "6 : \"Armut\"     \n",
    "      \"\"\")\n",
    "\n",
    "sepet = []\n",
    "\n",
    "while True:\n",
    "\n",
    "    x = input(\"Almak istediğiniz ürünün kodunu giriniz. Ürün eklemeyi bitirdiğinizde q tuşuna basınız.\").lower()\n",
    "\n",
    "    if x != \"q\":\n",
    "        sepet.append(ürünler[int(x)])\n",
    "        print(f\"Sepete {ürünler[int(x)]} eklendi\")\n",
    "\n",
    "    elif x == \"q\":\n",
    "        print(\"Bizi tercih ettiğiniz için teşekkürler\")\n",
    "        print(f\"Almış olduğunuz ürünler: {sepet}\")\n",
    "        break"
   ]
  }
 ],
 "metadata": {
  "kernelspec": {
   "display_name": "Python 3",
   "language": "python",
   "name": "python3"
  },
  "language_info": {
   "codemirror_mode": {
    "name": "ipython",
    "version": 3
   },
   "file_extension": ".py",
   "mimetype": "text/x-python",
   "name": "python",
   "nbconvert_exporter": "python",
   "pygments_lexer": "ipython3",
   "version": "3.12.1"
  }
 },
 "nbformat": 4,
 "nbformat_minor": 2
}
