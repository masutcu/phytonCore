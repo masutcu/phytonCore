{
 "cells": [
  {
   "cell_type": "markdown",
   "metadata": {},
   "source": [
    "# For Loop"
   ]
  },
  {
   "cell_type": "code",
   "execution_count": 1,
   "metadata": {},
   "outputs": [
    {
     "name": "stdout",
     "output_type": "stream",
     "text": [
      "t\n",
      "e\n",
      "c\n",
      "h\n",
      "p\n",
      "r\n",
      "o\n"
     ]
    }
   ],
   "source": [
    "# for döngüsü iterable ile çalışır.\n",
    "for i in \"techpro\":\n",
    "    print(i)"
   ]
  },
  {
   "cell_type": "code",
   "execution_count": 2,
   "metadata": {},
   "outputs": [
    {
     "name": "stdout",
     "output_type": "stream",
     "text": [
      "1\n",
      "4\n",
      "9\n",
      "16\n"
     ]
    }
   ],
   "source": [
    "liste_3=[1,2,3,4]\n",
    "for i in liste_3:\n",
    "    print(i**2)"
   ]
  },
  {
   "cell_type": "code",
   "execution_count": 3,
   "metadata": {},
   "outputs": [
    {
     "data": {
      "text/plain": [
       "False"
      ]
     },
     "execution_count": 3,
     "metadata": {},
     "output_type": "execute_result"
    }
   ],
   "source": [
    "\"a\" in \"hello\""
   ]
  },
  {
   "cell_type": "code",
   "execution_count": 4,
   "metadata": {},
   "outputs": [
    {
     "name": "stdout",
     "output_type": "stream",
     "text": [
      "1 karesi: 1\n",
      "2 karesi: 4\n",
      "3 karesi: 9\n",
      "4 karesi: 16\n"
     ]
    }
   ],
   "source": [
    "for i in (1,2,3,4):\n",
    "    print(f\"{i} karesi: {i**2}\")"
   ]
  },
  {
   "cell_type": "code",
   "execution_count": 7,
   "metadata": {},
   "outputs": [
    {
     "data": {
      "text/plain": [
       "'2535'"
      ]
     },
     "execution_count": 7,
     "metadata": {},
     "output_type": "execute_result"
    }
   ],
   "source": [
    "intToStr1=2535\n",
    "str(intToStr1)"
   ]
  },
  {
   "cell_type": "code",
   "execution_count": 9,
   "metadata": {},
   "outputs": [
    {
     "name": "stdout",
     "output_type": "stream",
     "text": [
      "Ali-Veli-Cem-Can-"
     ]
    }
   ],
   "source": [
    "names= [\"ali\",\"veli\",\"cem\",\"can\"]\n",
    "\n",
    "for i in names:\n",
    "    print(i.capitalize(), end='-')"
   ]
  },
  {
   "cell_type": "code",
   "execution_count": 19,
   "metadata": {},
   "outputs": [
    {
     "name": "stdout",
     "output_type": "stream",
     "text": [
      "T-e-c-h-p-r-o-"
     ]
    }
   ],
   "source": [
    "str2=\"Techpro\"\n",
    "for i in str2:\n",
    "    print(i, end=\"-\")"
   ]
  },
  {
   "cell_type": "code",
   "execution_count": 20,
   "metadata": {},
   "outputs": [],
   "source": [
    "dict1={\"name\": \"dilek\", \"age\": 26, \"job\": \"datascientist\"}"
   ]
  },
  {
   "cell_type": "code",
   "execution_count": 21,
   "metadata": {},
   "outputs": [
    {
     "name": "stdout",
     "output_type": "stream",
     "text": [
      "name\n",
      "age\n",
      "job\n"
     ]
    }
   ],
   "source": [
    "# for loop içinde dict kullanılırsa key ile işlem yapar\n",
    "for i in dict1:\n",
    "    print(i)"
   ]
  },
  {
   "cell_type": "code",
   "execution_count": 23,
   "metadata": {},
   "outputs": [
    {
     "name": "stdout",
     "output_type": "stream",
     "text": [
      "dilek\n",
      "26\n",
      "datascientist\n"
     ]
    }
   ],
   "source": [
    "# value ler ile işlem yapmak için values() ile çağrılır.\n",
    "for i in dict1.values():\n",
    "    print(i)"
   ]
  },
  {
   "cell_type": "code",
   "execution_count": 24,
   "metadata": {},
   "outputs": [
    {
     "name": "stdout",
     "output_type": "stream",
     "text": [
      "('name', 'dilek')\n",
      "('age', 26)\n",
      "('job', 'datascientist')\n"
     ]
    }
   ],
   "source": [
    "# her elemanı için items() kullanılır. sonuç tuple döner\n",
    "for i in dict1.items():\n",
    "    print(i)"
   ]
  },
  {
   "cell_type": "code",
   "execution_count": 26,
   "metadata": {},
   "outputs": [
    {
     "name": "stdout",
     "output_type": "stream",
     "text": [
      "name : dilek\n",
      "name : dilek\n",
      "age : 26\n",
      "age : 26\n",
      "job : datascientist\n",
      "job : datascientist\n"
     ]
    }
   ],
   "source": [
    "#veya değişkenleride ayırabiliriz\n",
    "for i, j in dict1.items():\n",
    "    print(f\"{i} : {j}\")\n",
    "    print(i, j, sep=\" : \")"
   ]
  },
  {
   "cell_type": "markdown",
   "metadata": {},
   "source": [
    "### print f ile tab lı yazdırım"
   ]
  },
  {
   "cell_type": "code",
   "execution_count": 27,
   "metadata": {},
   "outputs": [],
   "source": [
    "dict2={\"name\": \"dilek\", \"surname\": \"yılmaz\", \"age\": 26, \"job\": \"datascientist\"}"
   ]
  },
  {
   "cell_type": "code",
   "execution_count": 40,
   "metadata": {},
   "outputs": [
    {
     "name": "stdout",
     "output_type": "stream",
     "text": [
      "key:      name, value:     dilek     \n",
      "key:   surname, value:    yılmaz     \n",
      "key:       age, value:      26       \n",
      "key:       job, value: datascientist \n"
     ]
    }
   ],
   "source": [
    "for i, j in dict2.items():\n",
    "    print(f\"key:{i:>10}, value:{j:^15}\")"
   ]
  },
  {
   "cell_type": "code",
   "execution_count": 41,
   "metadata": {},
   "outputs": [
    {
     "data": {
      "text/plain": [
       "'      techpro       '"
      ]
     },
     "execution_count": 41,
     "metadata": {},
     "output_type": "execute_result"
    }
   ],
   "source": [
    "\"techpro\".center(20)"
   ]
  },
  {
   "cell_type": "code",
   "execution_count": 42,
   "metadata": {},
   "outputs": [
    {
     "data": {
      "text/plain": [
       "'     techpro'"
      ]
     },
     "execution_count": 42,
     "metadata": {},
     "output_type": "execute_result"
    }
   ],
   "source": [
    "\"techpro\".rjust(12)"
   ]
  },
  {
   "cell_type": "code",
   "execution_count": 43,
   "metadata": {},
   "outputs": [
    {
     "data": {
      "text/plain": [
       "'techpro     '"
      ]
     },
     "execution_count": 43,
     "metadata": {},
     "output_type": "execute_result"
    }
   ],
   "source": [
    "\"techpro\".ljust(12)"
   ]
  },
  {
   "cell_type": "markdown",
   "metadata": {},
   "source": [
    "### soru: 15 defa kaçıncı kez olduğuda yazacak şekilde bir str yazdır"
   ]
  },
  {
   "cell_type": "code",
   "execution_count": 52,
   "metadata": {},
   "outputs": [
    {
     "name": "stdout",
     "output_type": "stream",
     "text": [
      "1. Hoca bize ceza verdi \n",
      "2. Hoca bize ceza verdi \n",
      "3. Hoca bize ceza verdi \n",
      "4. Hoca bize ceza verdi \n",
      "5. Hoca bize ceza verdi \n",
      "6. Hoca bize ceza verdi \n",
      "7. Hoca bize ceza verdi \n",
      "8. Hoca bize ceza verdi \n",
      "9. Hoca bize ceza verdi \n",
      "10. Hoca bize ceza verdi \n",
      "11. Hoca bize ceza verdi \n",
      "12. Hoca bize ceza verdi \n",
      "13. Hoca bize ceza verdi \n",
      "14. Hoca bize ceza verdi \n",
      "15. Hoca bize ceza verdi \n"
     ]
    }
   ],
   "source": [
    "ceza=\"Hoca bize ceza verdi\"\n",
    "count=1\n",
    "for i in range(15):\n",
    "    print(f\"{count}. {ceza} \")\n",
    "    count+=1\n",
    "   \n"
   ]
  },
  {
   "cell_type": "markdown",
   "metadata": {},
   "source": [
    "### Ödev 1: Kullanıcıdan 1 ve 9 dahil bir sayı isteyin,  bu sayıların çarpım tablosunu olşturun. 8 girildi 8*1=8, 8*2=16"
   ]
  },
  {
   "cell_type": "code",
   "execution_count": 2,
   "metadata": {},
   "outputs": [
    {
     "name": "stdout",
     "output_type": "stream",
     "text": [
      "5 x 0 = 0\n",
      "5 x 1 = 5\n",
      "5 x 2 = 10\n",
      "5 x 3 = 15\n",
      "5 x 4 = 20\n",
      "5 x 5 = 25\n",
      "5 x 6 = 30\n",
      "5 x 7 = 35\n",
      "5 x 8 = 40\n",
      "5 x 9 = 45\n"
     ]
    }
   ],
   "source": [
    "sayı=int(input(\"1 ile 10 arsında (10 hariç) bir sayı giriniz.\"))\n",
    "\n",
    "for i in range (10):\n",
    "    print(f\"{sayı} x {i} = {sayı*i}\")\n",
    "    "
   ]
  },
  {
   "cell_type": "markdown",
   "metadata": {},
   "source": [
    "### Ödev 2: Kullanıcıdan 1 ve 9 dahil bir sayı isteyin,  bu sayıların çarpım tablosunu olşturun. Kullanıcı farklı değer girerse doğru değer girmesini isteyin"
   ]
  },
  {
   "cell_type": "code",
   "execution_count": 22,
   "metadata": {},
   "outputs": [
    {
     "name": "stdout",
     "output_type": "stream",
     "text": [
      "7 x 0 =  0\n",
      "7 x 1 =  7\n",
      "7 x 2 = 14\n",
      "7 x 3 = 21\n",
      "7 x 4 = 28\n",
      "7 x 5 = 35\n",
      "7 x 6 = 42\n",
      "7 x 7 = 49\n",
      "7 x 8 = 56\n",
      "7 x 9 = 63\n"
     ]
    }
   ],
   "source": [
    "sayı=int(input(\"1 ile 10 arsında (10 hariç) bir sayı giriniz.\"))\n",
    "\n",
    "if sayı>0 and sayı<10:\n",
    "    for i in range (10):\n",
    "            print(f\"{sayı} x {i} = {sayı*i:>2}\")       \n",
    "else:print(\"Doğru giriş yapmadınız\")"
   ]
  }
 ],
 "metadata": {
  "kernelspec": {
   "display_name": "Python 3",
   "language": "python",
   "name": "python3"
  },
  "language_info": {
   "codemirror_mode": {
    "name": "ipython",
    "version": 3
   },
   "file_extension": ".py",
   "mimetype": "text/x-python",
   "name": "python",
   "nbconvert_exporter": "python",
   "pygments_lexer": "ipython3",
   "version": "3.12.1"
  }
 },
 "nbformat": 4,
 "nbformat_minor": 2
}
