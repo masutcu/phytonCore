{
 "cells": [
  {
   "cell_type": "code",
   "execution_count": 1,
   "metadata": {},
   "outputs": [
    {
     "name": "stdout",
     "output_type": "stream",
     "text": [
      "mehmet ali\n"
     ]
    }
   ],
   "source": [
    "print(\"mehmet ali\")"
   ]
  },
  {
   "cell_type": "code",
   "execution_count": 22,
   "metadata": {},
   "outputs": [
    {
     "name": "stdout",
     "output_type": "stream",
     "text": [
      "canali 25 ali\n"
     ]
    }
   ],
   "source": [
    "print(\"can\"'ali',25,\"ali\")"
   ]
  },
  {
   "cell_type": "markdown",
   "metadata": {},
   "source": [
    "# pep8 Kuralları        \n",
    " \n",
    " "
   ]
  },
  {
   "cell_type": "markdown",
   "metadata": {},
   "source": [
    "PEP 8, Python programlama dilinde kod yazımı için stil kılavuzudur. PEP (Python Enhancement Proposal) 8, Python kodunun nasıl biçimlendirilmesi gerektiğine dair standartları ve yönergeleri belirtir. Bu kılavuz, Python kodunun daha okunabilir ve tutarlı olmasını sağlamak için tasarlanmıştır. İşte PEP 8'in ana kurallarından bazıları:\n",
    "1. **Girintileme**: Her girinti seviyesi için standart olarak 4 boşluk kullanılır.\n",
    "2. **Satır Genişliği**: Her satır 79 karakteri geçmemelidir. Uzun satırlar birden fazla satıra bölünmelidir.\n",
    "3. **İthalatlar (Imports)**: Her ithalat (import) ayrı bir satırda yapılmalıdır. İthalatlar dosyanın başında ve aşağıdaki sırayla yer almalıdır: standart kütüphane modülleri, üçüncü taraf modülleri, yerel uygulama/kütüphane özgü ithalatlar.\n",
    "4. **Boşluk Kullanımı**: Fonksiyon ve sınıf tanımlamalarından önce iki boş satır; yöntem tanımlamalarından önce ise bir boş satır kullanılmalıdır. Değişken atamalarında, operatörlerin etrafında birer boşluk bulunmalıdır (örn: `a = b`, `c == d`).\n",
    "5. **Yorumlar**: Yorumlar açık ve anlaşılır olmalıdır. Kodla aynı girintilemeyi paylaşmalı ve gerektiğinde güncellenmelidir.\n",
    "6. **Dokümantasyon Dizgileri (Docstrings)**: Herkese açık modüller, fonksiyonlar, sınıflar ve yöntemler, `\"\"\"Triple double quotes\"\"\"` kullanarak dokümantasyon dizgilerine sahip olmalıdır.\n",
    "7. **İsimlendirme Konvansiyonları**: Değişkenler için küçük harf ve alt çizgiler kullanılır (örn: `my_variable`), sınıf isimleri için her kelimenin ilk harfi büyük olmalıdır (örn: `MyClass`). Sabitler için tüm harfler büyük ve alt çizgiler kullanılır (örn: `MY_CONSTANT`).\n",
    "8. **Satır Sonları ve Boş Satırlar**: Dosya sonunda tek bir yeni satır olmalıdır. Sınıflar ve fonksiyonlar arasında iki boş satır, metodlar arasında ise bir boş satır bulunmalıdır.\n",
    "Bu kurallar Python kodunun temiz, profesyonel ve diğer Python geliştiricileri tarafından kolayca okunabilir olmasını sağlamak için tasarlanmıştır. Ancak, bazı durumlarda bu kılavuzdaki kuralları esnetmek mantıklı olabilir. Önemli olan, kodunuzun tutarlı ve ekibinizin ya da projenizin stil rehberine uygun olmasıdır. PEP 8 dokümantasyonunu Python'ın resmi web sitesinde bulabilir ve detaylı bilgilere ulaşabilirsiniz."
   ]
  },
  {
   "cell_type": "markdown",
   "metadata": {},
   "source": [
    "## veriables"
   ]
  },
  {
   "cell_type": "code",
   "execution_count": 17,
   "metadata": {},
   "outputs": [
    {
     "name": "stdout",
     "output_type": "stream",
     "text": [
      "techpro education\n"
     ]
    },
    {
     "data": {
      "text/plain": [
       "'tchpro ducation'"
      ]
     },
     "execution_count": 17,
     "metadata": {},
     "output_type": "execute_result"
    }
   ],
   "source": [
    "course = \"techpro education\"\n",
    "print(course)\n",
    "course.replace('e','')"
   ]
  },
  {
   "cell_type": "markdown",
   "metadata": {},
   "source": [
    "## tanımlamalar"
   ]
  },
  {
   "cell_type": "code",
   "execution_count": 21,
   "metadata": {},
   "outputs": [
    {
     "name": "stdout",
     "output_type": "stream",
     "text": [
      "15 ahmet 20\n",
      "22 33\n",
      "62 ali\n",
      "62 ahmet\n"
     ]
    }
   ],
   "source": [
    "num_1= 15\n",
    "num_2= 20\n",
    "isim= \"ahmet\"\n",
    "print(num_1,isim,num_2) #aralarında boşluk ile yazdırır\n",
    "\n",
    "num_3, num_4= 22,33  #tanımlama yanyana da yapılabilir\n",
    "print(num_3,num_4)\n",
    "\n",
    "num_5, isim2= 62,\"ali\"  #String ve int yanyanada tanımlanabilir\n",
    "print(num_5,isim2)\n",
    "print(num_5,isim) #çağırırken aynı tanımda olmasına gerek yok\n",
    "\n",
    "name1 = name2 = \"Ali\" # aynı anda birden fazla değişkene aynı değer atanabilir\n"
   ]
  },
  {
   "cell_type": "markdown",
   "metadata": {},
   "source": [
    "## Data Types"
   ]
  },
  {
   "cell_type": "code",
   "execution_count": 33,
   "metadata": {},
   "outputs": [
    {
     "data": {
      "text/plain": [
       "str"
      ]
     },
     "execution_count": 33,
     "metadata": {},
     "output_type": "execute_result"
    }
   ],
   "source": [
    "#str : \"\" işaretleri arasına yazılan herşey \n",
    "#float : kesirli sayılar\n",
    "#int : tam sayılar, negatif olabilir\n",
    "#bool: True ve False değişkenler- mantıksal değerler\n"
   ]
  }
 ],
 "metadata": {
  "kernelspec": {
   "display_name": "Python 3",
   "language": "python",
   "name": "python3"
  },
  "language_info": {
   "codemirror_mode": {
    "name": "ipython",
    "version": 3
   },
   "file_extension": ".py",
   "mimetype": "text/x-python",
   "name": "python",
   "nbconvert_exporter": "python",
   "pygments_lexer": "ipython3",
   "version": "3.12.1"
  }
 },
 "nbformat": 4,
 "nbformat_minor": 2
}
