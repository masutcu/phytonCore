{
 "cells": [
  {
   "cell_type": "markdown",
   "metadata": {},
   "source": [
    "# LOOPS"
   ]
  },
  {
   "cell_type": "markdown",
   "metadata": {},
   "source": [
    "### While döngü"
   ]
  },
  {
   "cell_type": "code",
   "execution_count": 1,
   "metadata": {},
   "outputs": [
    {
     "name": "stdout",
     "output_type": "stream",
     "text": [
      "bu döngü koşul sağlandıkça çıktı verir\n",
      "bu döngü koşul sağlandıkça çıktı verir\n",
      "bu döngü koşul sağlandıkça çıktı verir\n",
      "bu döngü koşul sağlandıkça çıktı verir\n",
      "bu döngü koşul sağlandıkça çıktı verir\n",
      "bu döngü koşul sağlandıkça çıktı verir\n"
     ]
    }
   ],
   "source": [
    "x=4\n",
    "\n",
    "while 10>x:\n",
    "    print(\"bu döngü koşul sağlandıkça çıktı verir\")\n",
    "    x=x+1 "
   ]
  },
  {
   "cell_type": "code",
   "execution_count": 2,
   "metadata": {},
   "outputs": [
    {
     "name": "stdout",
     "output_type": "stream",
     "text": [
      "1\n",
      "2\n",
      "3\n",
      "4\n"
     ]
    }
   ],
   "source": [
    "x=1\n",
    "while x < 5:\n",
    "    print(x)\n",
    "    x=x+1"
   ]
  },
  {
   "cell_type": "code",
   "execution_count": 3,
   "metadata": {},
   "outputs": [],
   "source": [
    "while False:\n",
    "    print(\"sanki çıktı yok\")"
   ]
  },
  {
   "cell_type": "code",
   "execution_count": 4,
   "metadata": {},
   "outputs": [
    {
     "name": "stdout",
     "output_type": "stream",
     "text": [
      "deneme: 1\n",
      "deneme: 2\n",
      "deneme: 3\n",
      "3 deneme hakkın bitti\n"
     ]
    }
   ],
   "source": [
    "x=1\n",
    "while x<=3:\n",
    "    print(f\"deneme: {x}\")\n",
    "    x+=1\n",
    "\n",
    "print(\"3 deneme hakkın bitti\")"
   ]
  },
  {
   "cell_type": "code",
   "execution_count": 6,
   "metadata": {},
   "outputs": [
    {
     "name": "stdout",
     "output_type": "stream",
     "text": [
      "1'in karesi 1\n",
      "2'in karesi 4\n",
      "3'in karesi 9\n",
      "4'in karesi 16\n",
      "5'in karesi 25\n"
     ]
    }
   ],
   "source": [
    "x=1\n",
    "while x<=5:\n",
    "    print(f\"{x}'in karesi {x*x}\")\n",
    "    x+=1"
   ]
  },
  {
   "cell_type": "code",
   "execution_count": 11,
   "metadata": {},
   "outputs": [
    {
     "name": "stdout",
     "output_type": "stream",
     "text": [
      "42 yanlış tahmin. tekrar dene\n",
      "40 yanlış tahmin. tekrar dene\n"
     ]
    }
   ],
   "source": [
    "tahmin=int(input(\"kilomu tahmin et, 10luk değeler kullan \"))\n",
    "while tahmin <90:\n",
    "    print(f\"{tahmin} yanlış tahmin. tekrar dene\")\n",
    "    tahmin=int(input(\"tekrar tahmin et\"))"
   ]
  },
  {
   "cell_type": "markdown",
   "metadata": {},
   "source": [
    "### tahmin oyunu"
   ]
  },
  {
   "cell_type": "code",
   "execution_count": 85,
   "metadata": {},
   "outputs": [],
   "source": [
    "import random"
   ]
  },
  {
   "cell_type": "code",
   "execution_count": 84,
   "metadata": {},
   "outputs": [
    {
     "name": "stdout",
     "output_type": "stream",
     "text": [
      "1. tahminin, tahminini arttır\n",
      "2. tahminin, tahminini azalt\n",
      "3. tahminin, tahminini azalt\n",
      "4. tahminin, tahminini azalt\n",
      "5. tahminin, tahminini azalt\n",
      "6. tahminin, tahminini azalt\n",
      "7. tahminin, tahminini azalt\n",
      "8. tahminin, Afferim Bildin! Tebrikler\n"
     ]
    }
   ],
   "source": [
    "y=True\n",
    "aklımdaki_sayı=random.randint(1,100)\n",
    "count=0\n",
    "while y: \n",
    "    tahmin=int(input(\"1 ile 100 arasında bir sayı tahmin et\"))\n",
    "    count+=1\n",
    "    if aklımdaki_sayı>tahmin:\n",
    "        print(f\"{count}. tahminin, tahminini arttır\")\n",
    "    elif aklımdaki_sayı<tahmin:\n",
    "        print (f\"{count}. tahminin, tahminini azalt\")\n",
    "    elif aklımdaki_sayı==tahmin:\n",
    "        print(f\"{count}. tahminin, Afferim Bildin! Tebrikler\")\n",
    "        y=False"
   ]
  },
  {
   "cell_type": "code",
   "execution_count": 7,
   "metadata": {},
   "outputs": [],
   "source": [
    "sayılar_listesi=[1,3,6,4,5,7]"
   ]
  },
  {
   "cell_type": "code",
   "execution_count": 14,
   "metadata": {},
   "outputs": [
    {
     "name": "stdout",
     "output_type": "stream",
     "text": [
      "1 * 9 * 36 * 16 * 25 * 49 * "
     ]
    }
   ],
   "source": [
    "x=0\n",
    "while x<len(sayılar_listesi):\n",
    "    print(sayılar_listesi[x]**2, end=\" * \")\n",
    "    x+=1\n",
    "\n",
    "#Bu kod ile sayılar_listesi içerisindeki her bir sayının karesini alabiliriz"
   ]
  },
  {
   "cell_type": "code",
   "execution_count": 21,
   "metadata": {},
   "outputs": [
    {
     "name": "stdout",
     "output_type": "stream",
     "text": [
      "[36, 16]\n"
     ]
    }
   ],
   "source": [
    "#listenin elemanlarından çift olanların karesini bir liste içinde yazdıran while döngüsünü yazın\n",
    "list1=[]\n",
    "x=0\n",
    "while x<len(sayılar_listesi):\n",
    "    if sayılar_listesi[x]%2==0:\n",
    "        list1.append(sayılar_listesi[x]**2)\n",
    "    x+=1\n",
    "print(list1)"
   ]
  },
  {
   "cell_type": "markdown",
   "metadata": {},
   "source": [
    "### ödev\n"
   ]
  },
  {
   "cell_type": "code",
   "execution_count": 2,
   "metadata": {},
   "outputs": [],
   "source": [
    "list2=[1,5,6,7,12,14,15,18,19,32,25] #listesinin tek elemanlarının karesini, çift elemanlarının 2 katını liste halinde döndüren while döngüsünü yazalım"
   ]
  },
  {
   "cell_type": "code",
   "execution_count": 33,
   "metadata": {},
   "outputs": [
    {
     "name": "stdout",
     "output_type": "stream",
     "text": [
      "Çiftten çıkanlar :  [12, 24, 28, 36, 64]\n",
      "Tekten çıkanlar :  [1, 25, 49, 225, 361, 625]\n"
     ]
    }
   ],
   "source": [
    "x=0\n",
    "listtek=[]\n",
    "listcift=[]\n",
    "\n",
    "while x<len(list2):\n",
    "    if list2[x]%2==0:\n",
    "        listcift.append(list2[x]*2)\n",
    "    else: \n",
    "        listtek.append(list2[x]**2)\n",
    "    x+=1\n",
    "print(\"Çiftten çıkanlar : \",listcift)\n",
    "print(\"Tekten çıkanlar : \",listtek)"
   ]
  },
  {
   "cell_type": "markdown",
   "metadata": {},
   "source": [
    "### güzel bir örnek if kullanımı farklı"
   ]
  },
  {
   "cell_type": "code",
   "execution_count": 4,
   "metadata": {},
   "outputs": [
    {
     "name": "stdout",
     "output_type": "stream",
     "text": [
      "[1, 25, 12, 49, 24, 28, 225, 36, 361, 64, 625]\n"
     ]
    }
   ],
   "source": [
    "x=0\n",
    "result=[]\n",
    "\n",
    "while x < len(list2):\n",
    "    if list2[x]%2: # buradan tek sayılar için 1 gelecek. 1 true'dur, 0 false dur.\n",
    "        result.append(list2[x]**2)\n",
    "    else:\n",
    "        result.append(list2[x]*2)\n",
    "    x += 1\n",
    "\n",
    "print(result)"
   ]
  },
  {
   "cell_type": "markdown",
   "metadata": {},
   "source": [
    "# random Modulü"
   ]
  },
  {
   "cell_type": "code",
   "execution_count": 5,
   "metadata": {},
   "outputs": [],
   "source": [
    "import random"
   ]
  },
  {
   "cell_type": "code",
   "execution_count": 15,
   "metadata": {},
   "outputs": [
    {
     "data": {
      "text/plain": [
       "0.36922983406291854"
      ]
     },
     "execution_count": 15,
     "metadata": {},
     "output_type": "execute_result"
    }
   ],
   "source": [
    "random.random() # 0-1 arası değer verir"
   ]
  },
  {
   "cell_type": "code",
   "execution_count": 8,
   "metadata": {},
   "outputs": [
    {
     "data": {
      "text/plain": [
       "0.6820045605879779"
      ]
     },
     "execution_count": 8,
     "metadata": {},
     "output_type": "execute_result"
    }
   ],
   "source": [
    "random.seed(37) # seed ile aynı değer alınması sağlanır. ortak çalışmada aynı random değer ile çalışılabilir\n",
    "random.random()"
   ]
  },
  {
   "cell_type": "code",
   "execution_count": 16,
   "metadata": {},
   "outputs": [
    {
     "data": {
      "text/plain": [
       "5"
      ]
     },
     "execution_count": 16,
     "metadata": {},
     "output_type": "execute_result"
    }
   ],
   "source": [
    "random.randint(1,6) # bu aralıkta int değer verir"
   ]
  },
  {
   "cell_type": "code",
   "execution_count": 70,
   "metadata": {},
   "outputs": [
    {
     "data": {
      "text/plain": [
       "8"
      ]
     },
     "execution_count": 70,
     "metadata": {},
     "output_type": "execute_result"
    }
   ],
   "source": [
    "random.randrange(4,20,2) # verilen aralıkta çift sayı"
   ]
  },
  {
   "cell_type": "code",
   "execution_count": 83,
   "metadata": {},
   "outputs": [
    {
     "data": {
      "text/plain": [
       "[8, 24, 11, 39, 5]"
      ]
     },
     "execution_count": 83,
     "metadata": {},
     "output_type": "execute_result"
    }
   ],
   "source": [
    "random.sample(range(100),5)  # 100 e kadar dan 5 sayı"
   ]
  },
  {
   "cell_type": "markdown",
   "metadata": {},
   "source": [
    "### break, continue"
   ]
  },
  {
   "cell_type": "code",
   "execution_count": 91,
   "metadata": {},
   "outputs": [],
   "source": [
    "import time"
   ]
  },
  {
   "cell_type": "code",
   "execution_count": 94,
   "metadata": {},
   "outputs": [
    {
     "name": "stdout",
     "output_type": "stream",
     "text": [
      "1. tahminin, tahminini arttır\n",
      "2. tahminin, tahminini azalt\n",
      "3. tahminin, tahminini azalt\n",
      "4. tahminin, tahminini azalt\n",
      "5. tahminin, tahminini azalt\n",
      "Hıkkın Bitti. Malesef Kaybettin! Sayı 97 idi.\n"
     ]
    }
   ],
   "source": [
    "\n",
    "aklımdaki_sayı=random.randint(1,100)\n",
    "time.sleep(2)\n",
    "sayaç=0\n",
    "while True: \n",
    "    tahmin=int(input(\"1 ile 100 arasında bir sayı tahmin et\"))\n",
    "    sayaç+=1\n",
    "    if aklımdaki_sayı>tahmin:\n",
    "        print(f\"{sayaç}. tahminin, tahminini arttır\")\n",
    "    elif aklımdaki_sayı<tahmin:\n",
    "        print (f\"{sayaç}. tahminin, tahminini azalt\")\n",
    "    elif aklımdaki_sayı==tahmin:\n",
    "        print(f\"{sayaç}. tahminin, Afferim Bildin! Tebrikler\")\n",
    "        break\n",
    "    if sayaç==5:\n",
    "        print (f\"Hıkkın Bitti. Malesef Kaybettin! Sayı {aklımdaki_sayı} idi.\")\n",
    "        break\n"
   ]
  },
  {
   "cell_type": "code",
   "execution_count": 96,
   "metadata": {},
   "outputs": [
    {
     "name": "stdout",
     "output_type": "stream",
     "text": [
      "10\n"
     ]
    }
   ],
   "source": [
    "liste = [1, 2, 3, 4, \"Techpro\", 5, 6, 7] # sırayla int değerleri toplayın. str ifadeye denk gelince kod sonlansın\n",
    "\n",
    "x = 0\n",
    "\n",
    "toplam = 0\n",
    "\n",
    "while x < len(liste):\n",
    "\n",
    "    if type(liste[x]) == int:\n",
    "        toplam += liste[x]\n",
    "\n",
    "    elif type(liste[x]) == str:\n",
    "        break\n",
    "\n",
    "    x += 1\n",
    "\n",
    "print(toplam)\n"
   ]
  },
  {
   "cell_type": "markdown",
   "metadata": {},
   "source": [
    "### min() ve max() fonksiyonları"
   ]
  },
  {
   "cell_type": "code",
   "execution_count": 97,
   "metadata": {},
   "outputs": [
    {
     "data": {
      "text/plain": [
       "2"
      ]
     },
     "execution_count": 97,
     "metadata": {},
     "output_type": "execute_result"
    }
   ],
   "source": [
    "listenew=[2,5,8,11,25,34,256]\n",
    "min(listenew)"
   ]
  },
  {
   "cell_type": "code",
   "execution_count": 98,
   "metadata": {},
   "outputs": [
    {
     "data": {
      "text/plain": [
       "256"
      ]
     },
     "execution_count": 98,
     "metadata": {},
     "output_type": "execute_result"
    }
   ],
   "source": [
    "max(listenew)"
   ]
  },
  {
   "cell_type": "code",
   "execution_count": 99,
   "metadata": {},
   "outputs": [
    {
     "data": {
      "text/plain": [
       "3"
      ]
     },
     "execution_count": 99,
     "metadata": {},
     "output_type": "execute_result"
    }
   ],
   "source": [
    "tuple=(5,8,3,26,95)\n",
    "min(tuple)"
   ]
  },
  {
   "cell_type": "code",
   "execution_count": 100,
   "metadata": {},
   "outputs": [
    {
     "data": {
      "text/plain": [
       "'ali'"
      ]
     },
     "execution_count": 100,
     "metadata": {},
     "output_type": "execute_result"
    }
   ],
   "source": [
    "strlist=[\"ali\",\"veli\",\"cem\",\"nuri\"]\n",
    "min(strlist)"
   ]
  },
  {
   "cell_type": "code",
   "execution_count": 101,
   "metadata": {},
   "outputs": [
    {
     "data": {
      "text/plain": [
       "'veli'"
      ]
     },
     "execution_count": 101,
     "metadata": {},
     "output_type": "execute_result"
    }
   ],
   "source": [
    "max(strlist)"
   ]
  },
  {
   "cell_type": "markdown",
   "metadata": {},
   "source": [
    "### ödev"
   ]
  },
  {
   "cell_type": "code",
   "execution_count": null,
   "metadata": {},
   "outputs": [],
   "source": [
    "# liste_1 = [4,5,6,9,85,23,65,47,32,91] listenin en küçük ve en büyük elemanını min ve max fpnksiyonu kullanmadan bulun. sort fonk da kullanmayın."
   ]
  },
  {
   "cell_type": "code",
   "execution_count": 132,
   "metadata": {},
   "outputs": [
    {
     "name": "stdout",
     "output_type": "stream",
     "text": [
      "Listedeki en büyük sayı 91'dır.\n"
     ]
    }
   ],
   "source": [
    "liste_1 = [4, 5, 6, 9, 85, 23, 65, 47, 32, 91]\n",
    "# listede birden fazla eleman olduğu sürece devam et\n",
    "while len(liste_1) > 1:  \n",
    "    if liste_1[0] < liste_1[1]:\n",
    "        liste_1.remove(liste_1[0])\n",
    "    else:\n",
    "        liste_1.remove(liste_1[1])\n",
    "\n",
    "print(f\"Listedeki en büyük sayı {liste_1[0]}'dır.\")"
   ]
  },
  {
   "cell_type": "code",
   "execution_count": 133,
   "metadata": {},
   "outputs": [
    {
     "name": "stdout",
     "output_type": "stream",
     "text": [
      "Listedeki en küçük sayı 4'dır.\n"
     ]
    }
   ],
   "source": [
    "liste_1 = [4, 5, 6, 9, 85, 23, 65, 47, 32, 91]\n",
    "# listede birden fazla eleman olduğu sürece devam et\n",
    "while len(liste_1) > 1:  \n",
    "    if liste_1[0] < liste_1[1]:\n",
    "        liste_1.remove(liste_1[1])\n",
    "    else:\n",
    "        liste_1.remove(liste_1[0])\n",
    "\n",
    "print(f\"Listedeki en küçük sayı {liste_1[0]}'dır.\")"
   ]
  }
 ],
 "metadata": {
  "kernelspec": {
   "display_name": "Python 3",
   "language": "python",
   "name": "python3"
  },
  "language_info": {
   "codemirror_mode": {
    "name": "ipython",
    "version": 3
   },
   "file_extension": ".py",
   "mimetype": "text/x-python",
   "name": "python",
   "nbconvert_exporter": "python",
   "pygments_lexer": "ipython3",
   "version": "3.12.1"
  }
 },
 "nbformat": 4,
 "nbformat_minor": 2
}
