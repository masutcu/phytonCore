{
 "cells": [
  {
   "cell_type": "markdown",
   "metadata": {},
   "source": [
    "# LOOPS"
   ]
  },
  {
   "cell_type": "markdown",
   "metadata": {},
   "source": [
    "### While döngü"
   ]
  },
  {
   "cell_type": "code",
   "execution_count": 1,
   "metadata": {},
   "outputs": [
    {
     "name": "stdout",
     "output_type": "stream",
     "text": [
      "bu döngü koşul sağlandıkça çıktı verir\n",
      "bu döngü koşul sağlandıkça çıktı verir\n",
      "bu döngü koşul sağlandıkça çıktı verir\n",
      "bu döngü koşul sağlandıkça çıktı verir\n",
      "bu döngü koşul sağlandıkça çıktı verir\n",
      "bu döngü koşul sağlandıkça çıktı verir\n"
     ]
    }
   ],
   "source": [
    "x=4\n",
    "\n",
    "while 10>x:\n",
    "    print(\"bu döngü koşul sağlandıkça çıktı verir\")\n",
    "    x=x+1 "
   ]
  },
  {
   "cell_type": "code",
   "execution_count": 2,
   "metadata": {},
   "outputs": [
    {
     "name": "stdout",
     "output_type": "stream",
     "text": [
      "1\n",
      "2\n",
      "3\n",
      "4\n"
     ]
    }
   ],
   "source": [
    "x=1\n",
    "while x < 5:\n",
    "    print(x)\n",
    "    x=x+1"
   ]
  },
  {
   "cell_type": "code",
   "execution_count": 3,
   "metadata": {},
   "outputs": [],
   "source": [
    "while False:\n",
    "    print(\"sanki çıktı yok\")"
   ]
  },
  {
   "cell_type": "code",
   "execution_count": 4,
   "metadata": {},
   "outputs": [
    {
     "name": "stdout",
     "output_type": "stream",
     "text": [
      "deneme: 1\n",
      "deneme: 2\n",
      "deneme: 3\n",
      "3 deneme hakkın bitti\n"
     ]
    }
   ],
   "source": [
    "x=1\n",
    "while x<=3:\n",
    "    print(f\"deneme: {x}\")\n",
    "    x+=1\n",
    "\n",
    "print(\"3 deneme hakkın bitti\")"
   ]
  },
  {
   "cell_type": "code",
   "execution_count": 6,
   "metadata": {},
   "outputs": [
    {
     "name": "stdout",
     "output_type": "stream",
     "text": [
      "1'in karesi 1\n",
      "2'in karesi 4\n",
      "3'in karesi 9\n",
      "4'in karesi 16\n",
      "5'in karesi 25\n"
     ]
    }
   ],
   "source": [
    "x=1\n",
    "while x<=5:\n",
    "    print(f\"{x}'in karesi {x*x}\")\n",
    "    x+=1"
   ]
  },
  {
   "cell_type": "code",
   "execution_count": 11,
   "metadata": {},
   "outputs": [
    {
     "name": "stdout",
     "output_type": "stream",
     "text": [
      "42 yanlış tahmin. tekrar dene\n",
      "40 yanlış tahmin. tekrar dene\n"
     ]
    }
   ],
   "source": [
    "tahmin=int(input(\"kilomu tahmin et, 10luk değeler kullan \"))\n",
    "while tahmin <90:\n",
    "    print(f\"{tahmin} yanlış tahmin. tekrar dene\")\n",
    "    tahmin=int(input(\"tekrar tahmin et\"))"
   ]
  },
  {
   "cell_type": "markdown",
   "metadata": {},
   "source": [
    "### tahmin oyunu"
   ]
  },
  {
   "cell_type": "code",
   "execution_count": 3,
   "metadata": {},
   "outputs": [
    {
     "name": "stdout",
     "output_type": "stream",
     "text": [
      "1. tahminin, tahminini azalt\n",
      "2. tahminin, tahminini arttır\n",
      "3. tahminin, tahminini arttır\n",
      "4. tahminin, Afferim Bildin! Tebrikler\n"
     ]
    }
   ],
   "source": [
    "y=True\n",
    "aklımdaki_sayı=55\n",
    "count=0\n",
    "while y: \n",
    "    tahmin=int(input(\"1 ile 100 arasında bir sayı tahmin et\"))\n",
    "    count+=1\n",
    "    if aklımdaki_sayı>tahmin:\n",
    "        print(f\"{count}. tahminin, tahminini arttır\")\n",
    "    elif aklımdaki_sayı<tahmin:\n",
    "        print (f\"{count}. tahminin, tahminini azalt\")\n",
    "    elif aklımdaki_sayı==tahmin:\n",
    "        print(f\"{count}. tahminin, Afferim Bildin! Tebrikler\")\n",
    "        y=False"
   ]
  },
  {
   "cell_type": "code",
   "execution_count": 7,
   "metadata": {},
   "outputs": [],
   "source": [
    "sayılar_listesi=[1,3,6,4,5,7]"
   ]
  },
  {
   "cell_type": "code",
   "execution_count": 14,
   "metadata": {},
   "outputs": [
    {
     "name": "stdout",
     "output_type": "stream",
     "text": [
      "1 * 9 * 36 * 16 * 25 * 49 * "
     ]
    }
   ],
   "source": [
    "x=0\n",
    "while x<len(sayılar_listesi):\n",
    "    print(sayılar_listesi[x]**2, end=\" * \")\n",
    "    x+=1\n",
    "\n",
    "#Bu kod ile sayılar_listesi içerisindeki her bir sayının karesini alabiliriz"
   ]
  },
  {
   "cell_type": "code",
   "execution_count": 21,
   "metadata": {},
   "outputs": [
    {
     "name": "stdout",
     "output_type": "stream",
     "text": [
      "[36, 16]\n"
     ]
    }
   ],
   "source": [
    "#listenin elemanlarından çift olanların karesini bir liste içinde yazdıran while döngüsünü yazın\n",
    "list1=[]\n",
    "x=0\n",
    "while x<len(sayılar_listesi):\n",
    "    if sayılar_listesi[x]%2==0:\n",
    "        list1.append(sayılar_listesi[x]**2)\n",
    "    x+=1\n",
    "print(list1)"
   ]
  },
  {
   "cell_type": "markdown",
   "metadata": {},
   "source": [
    "### ödev\n"
   ]
  },
  {
   "cell_type": "code",
   "execution_count": 29,
   "metadata": {},
   "outputs": [],
   "source": [
    "list2=[1,5,6,7,12,14,15,18,19,32,25] #listesinin tek elemanlarının karesini, çift elemanlarının 2 katını liste halinde döndüren while döngüsünü yazalım"
   ]
  },
  {
   "cell_type": "code",
   "execution_count": 33,
   "metadata": {},
   "outputs": [
    {
     "name": "stdout",
     "output_type": "stream",
     "text": [
      "Çiftten çıkanlar :  [12, 24, 28, 36, 64]\n",
      "Tekten çıkanlar :  [1, 25, 49, 225, 361, 625]\n"
     ]
    }
   ],
   "source": [
    "x=0\n",
    "listtek=[]\n",
    "listcift=[]\n",
    "\n",
    "while x<len(list2):\n",
    "    if list2[x]%2==0:\n",
    "        listcift.append(list2[x]*2)\n",
    "    else: \n",
    "        listtek.append(list2[x]**2)\n",
    "    x+=1\n",
    "print(\"Çiftten çıkanlar : \",listcift)\n",
    "print(\"Tekten çıkanlar : \",listtek)"
   ]
  }
 ],
 "metadata": {
  "kernelspec": {
   "display_name": "Python 3",
   "language": "python",
   "name": "python3"
  },
  "language_info": {
   "codemirror_mode": {
    "name": "ipython",
    "version": 3
   },
   "file_extension": ".py",
   "mimetype": "text/x-python",
   "name": "python",
   "nbconvert_exporter": "python",
   "pygments_lexer": "ipython3",
   "version": "3.12.1"
  }
 },
 "nbformat": 4,
 "nbformat_minor": 2
}
