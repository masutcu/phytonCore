{
 "cells": [
  {
   "cell_type": "markdown",
   "metadata": {},
   "source": [
    "### print() fonksiyonu"
   ]
  },
  {
   "cell_type": "code",
   "execution_count": 23,
   "metadata": {},
   "outputs": [
    {
     "name": "stdout",
     "output_type": "stream",
     "text": [
      "TechPro Education 3 ahmet\n"
     ]
    }
   ],
   "source": [
    "print('TechPro Education',3, 'ahmet')"
   ]
  },
  {
   "cell_type": "code",
   "execution_count": 24,
   "metadata": {},
   "outputs": [
    {
     "name": "stdout",
     "output_type": "stream",
     "text": [
      "Ali**Veli**hasan**5\n"
     ]
    }
   ],
   "source": [
    "print('Ali','Veli','hasan',5, sep='**') # sep='' ile ayraç koyuyoruz"
   ]
  },
  {
   "cell_type": "code",
   "execution_count": 25,
   "metadata": {},
   "outputs": [
    {
     "name": "stdout",
     "output_type": "stream",
     "text": [
      "ali😀veli\n"
     ]
    }
   ],
   "source": [
    "print('ali','veli', sep='\\U0001F600')"
   ]
  },
  {
   "cell_type": "code",
   "execution_count": 26,
   "metadata": {},
   "outputs": [
    {
     "name": "stdout",
     "output_type": "stream",
     "text": [
      "ali**veli\n",
      "deli\n"
     ]
    }
   ],
   "source": [
    "print('ali', end='**') # end parametresi değişmiş. default olan '\\n' değilse alt satıra geçmez\n",
    "print('veli')   # yeni değerleri bir satır alta yazar\n",
    "print('deli') "
   ]
  },
  {
   "cell_type": "code",
   "execution_count": 27,
   "metadata": {},
   "outputs": [
    {
     "name": "stdout",
     "output_type": "stream",
     "text": [
      "ali\n",
      "veli\n",
      "hasan\n"
     ]
    }
   ],
   "source": [
    "print('ali','veli','hasan', sep='\\n')"
   ]
  },
  {
   "cell_type": "markdown",
   "metadata": {},
   "source": [
    "### input() fonksiyonu"
   ]
  },
  {
   "cell_type": "code",
   "execution_count": 28,
   "metadata": {},
   "outputs": [
    {
     "name": "stdout",
     "output_type": "stream",
     "text": [
      "66\n"
     ]
    }
   ],
   "source": [
    "age=input('Lütfen yaşınızı giriniz')\n",
    "yas=int(age)+21\n",
    "print(yas)"
   ]
  },
  {
   "cell_type": "code",
   "execution_count": 29,
   "metadata": {},
   "outputs": [
    {
     "name": "stdout",
     "output_type": "stream",
     "text": [
      "45\n"
     ]
    }
   ],
   "source": [
    "age=int(input('Lütfen yaşınızı giriniz'))\n",
    "print(age)"
   ]
  },
  {
   "cell_type": "markdown",
   "metadata": {},
   "source": [
    "##### soru: kullanıcıdan yaşını alıp doğum yılınızı bulunuz"
   ]
  },
  {
   "cell_type": "code",
   "execution_count": 30,
   "metadata": {},
   "outputs": [
    {
     "name": "stdout",
     "output_type": "stream",
     "text": [
      "Doğum yılınız: 1979\n"
     ]
    }
   ],
   "source": [
    "age=int(input('Lütfen yaşınızı sayısal olarak giriniz'))\n",
    "yasınız=2024-age\n",
    "print('Doğum yılınız', yasınız , sep=': ')"
   ]
  },
  {
   "cell_type": "markdown",
   "metadata": {},
   "source": [
    "##### Soru: Kullanıcıdan kilo ve boy bilgisini alan ve vucut kitle endeksini yazdıran kodu yazdırın"
   ]
  },
  {
   "cell_type": "code",
   "execution_count": 34,
   "metadata": {},
   "outputs": [
    {
     "name": "stdout",
     "output_type": "stream",
     "text": [
      "Vucut Kitle Endeksiniz:  22.89307408198773\n"
     ]
    }
   ],
   "source": [
    "kilo=int(input('Lütfen Kilonuzu kg olarak giriniz'))\n",
    "boy=int(input('Lütfen Boyunuzu cm olarak giriniz'))\n",
    "vck=kilo/((boy/100)**2)\n",
    "print('Vucut Kitle Endeksiniz: ', vck)\n"
   ]
  },
  {
   "cell_type": "markdown",
   "metadata": {},
   "source": [
    "##### Escape Sequences\n"
   ]
  },
  {
   "cell_type": "code",
   "execution_count": null,
   "metadata": {},
   "outputs": [],
   "source": [
    "print('I\\'m a teacher') # ters \\ ile benden sonra gelen karakteri gör ama dikkate alma dedik"
   ]
  },
  {
   "cell_type": "code",
   "execution_count": 35,
   "metadata": {},
   "outputs": [
    {
     "name": "stdout",
     "output_type": "stream",
     "text": [
      "Hello Boys, \n",
      "how are you\n"
     ]
    }
   ],
   "source": [
    "print('Hello Boys, \\nhow are you') # \\n alt satıra geçirir "
   ]
  },
  {
   "cell_type": "code",
   "execution_count": 36,
   "metadata": {},
   "outputs": [
    {
     "name": "stdout",
     "output_type": "stream",
     "text": [
      "Ali\tVeli\tDeli\n"
     ]
    }
   ],
   "source": [
    "print('Ali','Veli','Deli', sep='\\t') # \\₺ bit tab tuşu işlemi yapar"
   ]
  },
  {
   "cell_type": "code",
   "execution_count": 39,
   "metadata": {},
   "outputs": [
    {
     "name": "stdout",
     "output_type": "stream",
     "text": [
      "Bizde geri \\nvites olmaz\n"
     ]
    }
   ],
   "source": [
    "print(r'Bizde geri \\nvites olmaz') # r ile escape sequenses etkisiz hala getirilir."
   ]
  },
  {
   "cell_type": "markdown",
   "metadata": {},
   "source": [
    "##### Odev: Kullanıcıdan celsius bilgisini alıp fahrenayta çevirin"
   ]
  },
  {
   "cell_type": "code",
   "execution_count": 41,
   "metadata": {},
   "outputs": [
    {
     "name": "stdout",
     "output_type": "stream",
     "text": [
      "Verdiğiniz 32.0 celcius değeri  89.6 fahrenayta eşittir\n"
     ]
    }
   ],
   "source": [
    "sıcaklıkCl=float(input('Sıcaklık değerini celcius olarak giriniz'))\n",
    "fahrenayt=sıcaklıkCl*1.8+32\n",
    "print('Verdiğiniz', sıcaklıkCl, 'celcius değeri ',fahrenayt,'fahrenayta eşittir')"
   ]
  }
 ],
 "metadata": {
  "kernelspec": {
   "display_name": "Python 3",
   "language": "python",
   "name": "python3"
  },
  "language_info": {
   "codemirror_mode": {
    "name": "ipython",
    "version": 3
   },
   "file_extension": ".py",
   "mimetype": "text/x-python",
   "name": "python",
   "nbconvert_exporter": "python",
   "pygments_lexer": "ipython3",
   "version": "3.12.1"
  }
 },
 "nbformat": 4,
 "nbformat_minor": 2
}
