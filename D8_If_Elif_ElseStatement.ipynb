{
 "cells": [
  {
   "cell_type": "markdown",
   "metadata": {},
   "source": [
    "# if , elif, else  statement"
   ]
  },
  {
   "cell_type": "code",
   "execution_count": 1,
   "metadata": {},
   "outputs": [
    {
     "name": "stdout",
     "output_type": "stream",
     "text": [
      "5, 2 den büyüktür\n"
     ]
    }
   ],
   "source": [
    "if 5>2:\n",
    "    print(\"5, 2 den büyüktür\")"
   ]
  },
  {
   "cell_type": "code",
   "execution_count": 5,
   "metadata": {},
   "outputs": [
    {
     "name": "stdout",
     "output_type": "stream",
     "text": [
      "bool str true olduğu için çıktı verir\n"
     ]
    }
   ],
   "source": [
    "if \"techpro\":\n",
    "    print(\"bool str true olduğu için çıktı verir\")"
   ]
  },
  {
   "cell_type": "code",
   "execution_count": 6,
   "metadata": {},
   "outputs": [],
   "source": [
    "if False:\n",
    "    print(\"çıktı vermez\")"
   ]
  },
  {
   "cell_type": "code",
   "execution_count": 9,
   "metadata": {},
   "outputs": [
    {
     "name": "stdout",
     "output_type": "stream",
     "text": [
      "ben if bloğuna bağlı değilim. if çalışsada çalışmasada ben çıktı veririm\n"
     ]
    }
   ],
   "source": [
    "if 5<4:\n",
    "    print(\"5 , 4den küçüktür\")\n",
    "\n",
    "print (\"ben if bloğuna bağlı değilim. if çalışsada çalışmasada ben çıktı veririm\")"
   ]
  },
  {
   "cell_type": "code",
   "execution_count": 10,
   "metadata": {},
   "outputs": [],
   "source": [
    "if \"\":\n",
    "    print(\"boş str false olduğu için çıktı vermez\")"
   ]
  },
  {
   "cell_type": "code",
   "execution_count": 13,
   "metadata": {},
   "outputs": [],
   "source": [
    "if 10>3:\n",
    "    print(\"10 3den büyüktür\")\n",
    "    print(10-3)\n",
    "    print(10*3)\n",
    "    age=10*3-2\n",
    "    print(age)"
   ]
  },
  {
   "cell_type": "code",
   "execution_count": 15,
   "metadata": {},
   "outputs": [
    {
     "name": "stdout",
     "output_type": "stream",
     "text": [
      "28\n"
     ]
    }
   ],
   "source": [
    "print(age) # dışarıda if bloğundaki veriableyi çağırabildik, eğer if koşul sağlanmasa idi gelmezdi"
   ]
  },
  {
   "cell_type": "code",
   "execution_count": 7,
   "metadata": {},
   "outputs": [
    {
     "name": "stdout",
     "output_type": "stream",
     "text": [
      "ok\n"
     ]
    }
   ],
   "source": [
    "isim1=\"ali\"\n",
    "isim2=\"ali\"\n",
    "if isim1==isim2:\n",
    "    print(\"ok\") "
   ]
  },
  {
   "cell_type": "markdown",
   "metadata": {},
   "source": [
    "### if, else"
   ]
  },
  {
   "cell_type": "code",
   "execution_count": 18,
   "metadata": {},
   "outputs": [
    {
     "name": "stdout",
     "output_type": "stream",
     "text": [
      "else, şart sağlanmıyorsa çalışır\n"
     ]
    }
   ],
   "source": [
    "if 5<4:\n",
    "    print(\"şart sağlanıyorsa çalışır\")\n",
    "else:\n",
    "    print(\"else, şart sağlanmıyorsa çalışır\")"
   ]
  },
  {
   "cell_type": "code",
   "execution_count": 20,
   "metadata": {},
   "outputs": [
    {
     "name": "stdout",
     "output_type": "stream",
     "text": [
      "şart true ise çalışır\n"
     ]
    }
   ],
   "source": [
    "x=8\n",
    "if x>5:\n",
    "    print(\"şart true ise çalışır\")\n",
    "else:\n",
    "    print(\"şart sağlanmıyorsa else çalışır\")"
   ]
  },
  {
   "cell_type": "markdown",
   "metadata": {},
   "source": [
    "### if, elif"
   ]
  },
  {
   "cell_type": "code",
   "execution_count": 22,
   "metadata": {},
   "outputs": [
    {
     "name": "stdout",
     "output_type": "stream",
     "text": [
      "8 den küçük\n"
     ]
    }
   ],
   "source": [
    "x=int(input(\"10 a kadar pozitif bir sayı giriniz\"))\n",
    "if x<8:\n",
    "    print(\"8 den küçük\")\n",
    "elif x==8:\n",
    "    print(\"değişken 8 e eşit\")\n",
    "elif x>8:\n",
    "    print(\"8 den büyük\")"
   ]
  },
  {
   "cell_type": "markdown",
   "metadata": {},
   "source": [
    "### if elif else beraber kullanımı"
   ]
  },
  {
   "cell_type": "code",
   "execution_count": 29,
   "metadata": {},
   "outputs": [
    {
     "name": "stdout",
     "output_type": "stream",
     "text": [
      "sayı 0 ile 50 arasında değil\n"
     ]
    }
   ],
   "source": [
    "x=int(input(\"0 ile 50 arasında bir sayı giriniz\"))\n",
    "if x>0 and x<10:\n",
    "    print(\"başarısız\")\n",
    "elif 10<=x<35:\n",
    "    print(\"geçer\")\n",
    "elif 35<=x<=50:\n",
    "    print(\"başarılı\")\n",
    "else: print(\"sayı 0 ile 50 arasında değil\")"
   ]
  },
  {
   "cell_type": "markdown",
   "metadata": {},
   "source": [
    "### soru: 15 soru var 5 soru ve altı yapan dahimisin, 10 ve altı ise \"şakamısın\", 15 altı süpersin"
   ]
  },
  {
   "cell_type": "code",
   "execution_count": 32,
   "metadata": {},
   "outputs": [
    {
     "name": "stdout",
     "output_type": "stream",
     "text": [
      "dahi misin?\n"
     ]
    }
   ],
   "source": [
    "x=int(input(\"kahotta kaç doğru yaptın\"))\n",
    "if x>0 and x<=5:\n",
    "    print(\"dahi misin?\")\n",
    "elif 5<x<=10:\n",
    "    print(\"şaka mısın?\")\n",
    "elif 10<x<15:\n",
    "    print(\"Süpersin!\")\n",
    "else: print(\"doğru sayı girmedin bro\")"
   ]
  },
  {
   "cell_type": "markdown",
   "metadata": {},
   "source": [
    "# Lists"
   ]
  },
  {
   "cell_type": "code",
   "execution_count": null,
   "metadata": {},
   "outputs": [],
   "source": [
    "# mutable  - yeni atama yapmadan değiştirilebilir\n",
    "# iterable - elemanlarına tek tek ulaşılabilir, ayrılabilir"
   ]
  },
  {
   "cell_type": "code",
   "execution_count": 35,
   "metadata": {},
   "outputs": [
    {
     "name": "stdout",
     "output_type": "stream",
     "text": [
      "['ali', 15, False, 23]\n"
     ]
    },
    {
     "data": {
      "text/plain": [
       "4"
      ]
     },
     "execution_count": 35,
     "metadata": {},
     "output_type": "execute_result"
    }
   ],
   "source": [
    "#list ler 2 yöntemle oluşturulur 1. []  2. list()\n",
    "# [] içerisine çok eleman eklenebilir. elemanlar iterable olmak zorunda değildir.\n",
    "liste1=[\"ali\",15,False,23]\n",
    "print(liste1)\n",
    "\n",
    "len(liste1)"
   ]
  },
  {
   "cell_type": "code",
   "execution_count": 36,
   "metadata": {},
   "outputs": [
    {
     "data": {
      "text/plain": [
       "['m', 'e', 'h', 'm', 'e', 't']"
      ]
     },
     "execution_count": 36,
     "metadata": {},
     "output_type": "execute_result"
    }
   ],
   "source": [
    "liste2=list(\"mehmet\") # list() kullanılırken içine yazılan değerler iterable olması gerekir. en fazla 1 değer yazılır\n",
    "liste2"
   ]
  },
  {
   "cell_type": "code",
   "execution_count": 37,
   "metadata": {},
   "outputs": [
    {
     "data": {
      "text/plain": [
       "['mehmet']"
      ]
     },
     "execution_count": 37,
     "metadata": {},
     "output_type": "execute_result"
    }
   ],
   "source": [
    "liste3=[\"mehmet\"]\n",
    "liste3"
   ]
  },
  {
   "cell_type": "code",
   "execution_count": 38,
   "metadata": {},
   "outputs": [
    {
     "data": {
      "text/plain": [
       "[['a', 'h', 'm', 'e', 't']]"
      ]
     },
     "execution_count": 38,
     "metadata": {},
     "output_type": "execute_result"
    }
   ],
   "source": [
    "liste5=[list(\"ahmet\")] \n",
    "liste5"
   ]
  },
  {
   "cell_type": "code",
   "execution_count": 39,
   "metadata": {},
   "outputs": [
    {
     "ename": "TypeError",
     "evalue": "list expected at most 1 argument, got 2",
     "output_type": "error",
     "traceback": [
      "\u001b[1;31m---------------------------------------------------------------------------\u001b[0m",
      "\u001b[1;31mTypeError\u001b[0m                                 Traceback (most recent call last)",
      "Cell \u001b[1;32mIn[39], line 1\u001b[0m\n\u001b[1;32m----> 1\u001b[0m liste8\u001b[38;5;241m=\u001b[39m\u001b[38;5;28;43mlist\u001b[39;49m\u001b[43m(\u001b[49m\u001b[38;5;124;43m\"\u001b[39;49m\u001b[38;5;124;43mali\u001b[39;49m\u001b[38;5;124;43m\"\u001b[39;49m\u001b[43m,\u001b[49m\u001b[43m \u001b[49m\u001b[38;5;124;43m\"\u001b[39;49m\u001b[38;5;124;43mveli\u001b[39;49m\u001b[38;5;124;43m\"\u001b[39;49m\u001b[43m)\u001b[49m\n\u001b[0;32m      2\u001b[0m liste8\n",
      "\u001b[1;31mTypeError\u001b[0m: list expected at most 1 argument, got 2"
     ]
    }
   ],
   "source": [
    "liste8=list(\"ali\", \"veli\") # hata verir. en fazla 1 değer yazılabilir\n",
    "liste8"
   ]
  },
  {
   "cell_type": "code",
   "execution_count": 40,
   "metadata": {},
   "outputs": [
    {
     "data": {
      "text/plain": [
       "3"
      ]
     },
     "execution_count": 40,
     "metadata": {},
     "output_type": "execute_result"
    }
   ],
   "source": [
    "ortaya_karısık=[3,3.4,\"Orkun\",False,[1,2,3,4]]\n",
    "ortaya_karısık[4][2]  # list içindeki listi alıyoruz"
   ]
  },
  {
   "cell_type": "markdown",
   "metadata": {},
   "source": [
    "### ödev 1: kullanıcıdan boy ve kilosunu öğrenip vki dururmunu yazdırın.\n"
   ]
  },
  {
   "cell_type": "code",
   "execution_count": 44,
   "metadata": {},
   "outputs": [
    {
     "name": "stdout",
     "output_type": "stream",
     "text": [
      "Vucut Kitle Endeksiniz:  -0.8656509695290858\n",
      "Negatif değer olamaz. Girdiğiniz değerleri kontrol ediniz\n"
     ]
    }
   ],
   "source": [
    "kilo=int(input('Lütfen Kilonuzu kg olarak giriniz'))\n",
    "boy=int(input('Lütfen Boyunuzu cm olarak giriniz'))\n",
    "vck=kilo/((boy/100)**2)\n",
    "print('Vucut Kitle Endeksiniz: ', vck)\n",
    "\n",
    "if vck<0:\n",
    "    print(\"Negatif değer olamaz. Girdiğiniz değerleri kontrol ediniz\")\n",
    "elif vck<18.5:\n",
    "    print(\"Zayıf\")\n",
    "elif vck<24.9:\n",
    "    print(\"Normal\")\n",
    "elif vck<29.9:\n",
    "    print (\"Kilolu\")\n",
    "elif vck<=34.9:\n",
    "    print(\"Obez\")\n",
    "else:\n",
    "    print(\"Morbid Obez\")\n",
    "\n",
    "\n"
   ]
  },
  {
   "cell_type": "markdown",
   "metadata": {},
   "source": [
    "Ödev2:\n",
    "1 - Kullanıcıdan bir sayı alın.\n",
    "2 - Bu sayı 3 e bölünebiliyorsa \"Tech\",\n",
    "3 - 5 e bölünebiliyorsa \"Pro\",\n",
    "4 - Hem 5 e hem de 3 e bölünebiliyorsa \"Techpro\" yazdırın.\n",
    "5 - sayı bu şartların hiç birini sağlamıyorsa sayının kendisini yazdıran python kodunu yazın.\n",
    "Cevaplar yarın 15:00(tr) e kadar slack kanallarında paylaşılmayacak. 15:00 dan sonra paylaşabilirsiniz."
   ]
  },
  {
   "cell_type": "code",
   "execution_count": 47,
   "metadata": {},
   "outputs": [
    {
     "name": "stdout",
     "output_type": "stream",
     "text": [
      "TechPro\n"
     ]
    }
   ],
   "source": [
    "num=int(input(\"Bir sayı giriniz\"))\n",
    "if num%3==0 and num%5==0:\n",
    "    print (\"TechPro\")\n",
    "elif num%3==0:\n",
    "    print(\"Tech\")\n",
    "elif num%5==0:\n",
    "    print (\"Pro\")\n",
    "else: print (num)\n"
   ]
  },
  {
   "cell_type": "code",
   "execution_count": 2,
   "metadata": {},
   "outputs": [
    {
     "data": {
      "text/plain": [
       "['Betül', 3.14, True, 7, [1, 2, 3, 4, 5, 6]]"
      ]
     },
     "execution_count": 2,
     "metadata": {},
     "output_type": "execute_result"
    }
   ],
   "source": [
    "potpori=[\"ali\", 3.14, True, 7, [1,2,3,4,5,6]]\n",
    "potpori[0]=\"Betül\" # list değerini değiştirebiliriz\n",
    "potpori"
   ]
  },
  {
   "cell_type": "code",
   "execution_count": 3,
   "metadata": {},
   "outputs": [
    {
     "ename": "TypeError",
     "evalue": "'str' object does not support item assignment",
     "output_type": "error",
     "traceback": [
      "\u001b[1;31m---------------------------------------------------------------------------\u001b[0m",
      "\u001b[1;31mTypeError\u001b[0m                                 Traceback (most recent call last)",
      "Cell \u001b[1;32mIn[3], line 2\u001b[0m\n\u001b[0;32m      1\u001b[0m isim1\u001b[38;5;241m=\u001b[39m\u001b[38;5;124m\"\u001b[39m\u001b[38;5;124mali\u001b[39m\u001b[38;5;124m\"\u001b[39m\n\u001b[1;32m----> 2\u001b[0m \u001b[43misim1\u001b[49m\u001b[43m[\u001b[49m\u001b[38;5;241;43m1\u001b[39;49m\u001b[43m]\u001b[49m\u001b[38;5;241m=\u001b[39m\u001b[38;5;124m\"\u001b[39m\u001b[38;5;124mo\u001b[39m\u001b[38;5;124m\"\u001b[39m\n",
      "\u001b[1;31mTypeError\u001b[0m: 'str' object does not support item assignment"
     ]
    }
   ],
   "source": [
    "isim1=\"ali\"\n",
    "isim1[1]=\"o\" # str immutable olduğu için indexlenip değiştirilemez Hata verir"
   ]
  }
 ],
 "metadata": {
  "kernelspec": {
   "display_name": "Python 3",
   "language": "python",
   "name": "python3"
  },
  "language_info": {
   "codemirror_mode": {
    "name": "ipython",
    "version": 3
   },
   "file_extension": ".py",
   "mimetype": "text/x-python",
   "name": "python",
   "nbconvert_exporter": "python",
   "pygments_lexer": "ipython3",
   "version": "3.12.1"
  }
 },
 "nbformat": 4,
 "nbformat_minor": 2
}
