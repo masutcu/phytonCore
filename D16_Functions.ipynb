{
 "cells": [
  {
   "cell_type": "markdown",
   "metadata": {},
   "source": [
    "# Function"
   ]
  },
  {
   "cell_type": "code",
   "execution_count": null,
   "metadata": {},
   "outputs": [],
   "source": [
    "def fonk_ismi (parametre):\n",
    "    işlem satırı"
   ]
  },
  {
   "cell_type": "code",
   "execution_count": 1,
   "metadata": {},
   "outputs": [],
   "source": [
    "def kareler_toplamı (x,y):\n",
    "    print(x**2+y**2)"
   ]
  },
  {
   "cell_type": "code",
   "execution_count": 2,
   "metadata": {},
   "outputs": [
    {
     "name": "stdout",
     "output_type": "stream",
     "text": [
      "34\n"
     ]
    }
   ],
   "source": [
    "kareler_toplamı(3,5)"
   ]
  },
  {
   "cell_type": "code",
   "execution_count": 3,
   "metadata": {},
   "outputs": [],
   "source": [
    "def karaler_toplamı2(x,y):\n",
    "    \"\"\"Bu fonksiyon iki tane sayının karesini alır ve toplar\"\"\"\n",
    "    print(x**2+y**2)"
   ]
  },
  {
   "cell_type": "code",
   "execution_count": 4,
   "metadata": {},
   "outputs": [
    {
     "data": {
      "text/plain": [
       "'Bu fonksiyon iki tane sayının karesini alır ve toplar'"
      ]
     },
     "execution_count": 4,
     "metadata": {},
     "output_type": "execute_result"
    }
   ],
   "source": [
    "karaler_toplamı2.__doc__"
   ]
  },
  {
   "cell_type": "code",
   "execution_count": 4,
   "metadata": {},
   "outputs": [
    {
     "name": "stdout",
     "output_type": "stream",
     "text": [
      "61\n"
     ]
    }
   ],
   "source": [
    "karaler_toplamı2(5,6) # üzerine imleç ile gelince açıklama metni çıkar"
   ]
  },
  {
   "cell_type": "code",
   "execution_count": 10,
   "metadata": {},
   "outputs": [],
   "source": [
    "def calculator(num,opr,num2):\n",
    "    if opr==\"+\":\n",
    "        print(num+num2)\n",
    "    elif opr==\"-\":\n",
    "        print(num-num2)\n",
    "    elif opr==\"x\":\n",
    "        print(num*num2)\n",
    "    elif opr==\"/\":\n",
    "        print(num/num2)\n",
    "    else:\n",
    "        print(\"Hatalı giriş\")"
   ]
  },
  {
   "cell_type": "code",
   "execution_count": 11,
   "metadata": {},
   "outputs": [
    {
     "name": "stdout",
     "output_type": "stream",
     "text": [
      "20\n"
     ]
    }
   ],
   "source": [
    "calculator(5,\"x\",4)"
   ]
  },
  {
   "cell_type": "code",
   "execution_count": 12,
   "metadata": {},
   "outputs": [
    {
     "name": "stdout",
     "output_type": "stream",
     "text": [
      "Techpro\n"
     ]
    }
   ],
   "source": [
    "calculator(\"Tech\",\"+\",\"pro\")"
   ]
  },
  {
   "cell_type": "code",
   "execution_count": 17,
   "metadata": {},
   "outputs": [
    {
     "name": "stdout",
     "output_type": "stream",
     "text": [
      "{'e', 'l'}\n"
     ]
    }
   ],
   "source": [
    "calculator(set(\"elif\"),\"-\",set(\"if\"))"
   ]
  },
  {
   "cell_type": "markdown",
   "metadata": {},
   "source": [
    "### ödev: Armstrong number olup olmadığını bulan kodu yazın\n",
    "###### Armstrong Sayı Nedir ? N haneli bir sayının basamaklarının n'inci üstlerinin toplamı, sayının kendisine eşitse, böyle sayılara Armstrong sayı denir. "
   ]
  },
  {
   "cell_type": "code",
   "execution_count": 7,
   "metadata": {},
   "outputs": [
    {
     "name": "stdout",
     "output_type": "stream",
     "text": [
      "[7, 0, 4]\n",
      "sayı :407 top :407\n",
      "Bu bir amstrong sayıdır\n"
     ]
    }
   ],
   "source": [
    "num=int(input(\"Bir sayı giriniz\"))\n",
    "num1=num\n",
    "sayı=[]\n",
    "\n",
    "while num/10>0:\n",
    "    son=num%10\n",
    "    sayı.append(son)\n",
    "    num=int(num/10) \n",
    "print(sayı)\n",
    "\n",
    "top=0\n",
    "for i in sayı:\n",
    "    top+=i**len(sayı)\n",
    "print(f\"sayı :{num1} top :{top}\")    \n",
    "if top ==  num1:\n",
    "    print(\"Bu bir amstrong sayıdır\")\n",
    "else:\n",
    "    print(\"Bu bir amstrong sayı değildir\")"
   ]
  },
  {
   "cell_type": "code",
   "execution_count": 32,
   "metadata": {},
   "outputs": [
    {
     "name": "stdout",
     "output_type": "stream",
     "text": [
      "1634 sayısı amstrong bir sayıdır.\n"
     ]
    }
   ],
   "source": [
    "#hocanın çözümü\n",
    "sayı=input(\"bir sayı giriniz\")\n",
    "uzunluk=len(sayı)\n",
    "toplam=0\n",
    "\n",
    "#sum([int(i)**uzunluk for i in sayı]) list compherensive ile \n",
    "\n",
    "for i in sayı:\n",
    "    toplam+=int(i)**uzunluk\n",
    "\n",
    "if toplam == int(sayı):\n",
    "    print(f\"{sayı} sayısı amstrong bir sayıdır.\")\n",
    "else:\n",
    "    print(f\"{sayı} sayısı amstrong bir sayı değildir. sayınız toplamı : {toplam}\")"
   ]
  },
  {
   "cell_type": "code",
   "execution_count": 34,
   "metadata": {},
   "outputs": [],
   "source": [
    "def find_armstrong(x):\n",
    "    \n",
    "    x = str(x)\n",
    "\n",
    "    uzunluk = len(x)\n",
    "\n",
    "    if int(x) == sum([int(i) ** uzunluk for i in x]):\n",
    "        print(f\"{x} sayısı armstrong bir sayıdır\")\n",
    "    else:\n",
    "        print(f\"{x} sayısı armstrong sayı değildir\")"
   ]
  },
  {
   "cell_type": "code",
   "execution_count": 35,
   "metadata": {},
   "outputs": [
    {
     "name": "stdout",
     "output_type": "stream",
     "text": [
      "407 sayısı armstrong bir sayıdır\n"
     ]
    }
   ],
   "source": [
    "find_armstrong(407)"
   ]
  },
  {
   "cell_type": "code",
   "execution_count": 2,
   "metadata": {},
   "outputs": [],
   "source": [
    "def find_armstrong_2(x):\n",
    "    \n",
    "    x = str(x)\n",
    "\n",
    "    uzunluk = len(x)\n",
    "\n",
    "    if int(x) == sum([int(i) ** uzunluk for i in x]):\n",
    "        return int(x)"
   ]
  },
  {
   "cell_type": "code",
   "execution_count": 3,
   "metadata": {},
   "outputs": [
    {
     "name": "stdout",
     "output_type": "stream",
     "text": [
      "CPU times: total: 0 ns\n",
      "Wall time: 12.6 ms\n"
     ]
    },
    {
     "data": {
      "text/plain": [
       "[1, 2, 3, 4, 5, 6, 7, 8, 9, 153, 370, 371, 407, 1634, 8208, 9474]"
      ]
     },
     "execution_count": 3,
     "metadata": {},
     "output_type": "execute_result"
    }
   ],
   "source": [
    "%%time\n",
    "result=[]\n",
    "for i in range (1,10000):\n",
    "    if find_armstrong_2(i) != None:\n",
    "        result.append(i)\n",
    "result"
   ]
  },
  {
   "cell_type": "code",
   "execution_count": 4,
   "metadata": {},
   "outputs": [
    {
     "name": "stdout",
     "output_type": "stream",
     "text": [
      "CPU times: total: 0 ns\n",
      "Wall time: 10.5 ms\n"
     ]
    },
    {
     "data": {
      "text/plain": [
       "[1, 2, 3, 4, 5, 6, 7, 8, 9, 153, 370, 371, 407, 1634, 8208, 9474]"
      ]
     },
     "execution_count": 4,
     "metadata": {},
     "output_type": "execute_result"
    }
   ],
   "source": [
    "%%time\n",
    "[i for i in range (1,10000) if find_armstrong_2(i) != None] # list comprensive ile "
   ]
  },
  {
   "cell_type": "markdown",
   "metadata": {},
   "source": [
    "### soru: Asal sayı sorusu"
   ]
  },
  {
   "cell_type": "code",
   "execution_count": 6,
   "metadata": {},
   "outputs": [
    {
     "name": "stdout",
     "output_type": "stream",
     "text": [
      "1971 sayısı asal sayı değildir\n"
     ]
    }
   ],
   "source": [
    "#asal sayılar (prime number) önce asal sayı bulan  fonksiyon, sonra bir aralıktan asal sayıları bulan \n",
    "x=int(input(\"bir sayı giriniz\"))\n",
    "\n",
    "if x>1:\n",
    "    count=0\n",
    "    for i in range(2,x):\n",
    "        if x % i ==0:\n",
    "            count+=1\n",
    "    if count ==0 :\n",
    "        print(f\"{x} sayısı asal sayıdır\")\n",
    "    else:\n",
    "         print(f\"{x} sayısı asal sayı değildir\")\n",
    "else:\n",
    "    print(\"Sayı 1'den küçük olamaz.\")\n",
    "         \n",
    "    \n",
    "    "
   ]
  },
  {
   "cell_type": "code",
   "execution_count": 37,
   "metadata": {},
   "outputs": [],
   "source": [
    "def findPrimeNumber(x):\n",
    "    \"\"\"Bu fonksiyon sayının asal sayı kontrolü yapar\"\"\"\n",
    "    if x > 1:\n",
    "        for i in range(2,x):\n",
    "            if x % i==0:\n",
    "                return \"sayı asal değildir\"   \n",
    "        return f\"{x} sayısı asal sayıdır\"\n",
    "    else:\n",
    "        return f\"girdiğiniz sayı {x}  1'den büyük olmalıdır\"\n"
   ]
  },
  {
   "cell_type": "code",
   "execution_count": 32,
   "metadata": {},
   "outputs": [
    {
     "data": {
      "text/plain": [
       "'2 sayısı asal sayıdır'"
      ]
     },
     "execution_count": 32,
     "metadata": {},
     "output_type": "execute_result"
    }
   ],
   "source": [
    "findPrimeNumber(2)"
   ]
  },
  {
   "cell_type": "code",
   "execution_count": 41,
   "metadata": {},
   "outputs": [],
   "source": [
    "def find_prime_number_2(x):\n",
    "\n",
    "    \"\"\"Bu fonsiyon sayının asalsayı olup olmadığını tespit eder.\"\"\"\n",
    "\n",
    "    if x > 1:\n",
    "\n",
    "        for i in range(2, x):\n",
    "\n",
    "            if x % i == 0:\n",
    "                break\n",
    "        \n",
    "        else:    \n",
    "            return x\n",
    "            \n",
    "    else:\n",
    "        return f\"girdiğiniz sayı {x}. 1 den bütük olmalıdır\""
   ]
  },
  {
   "cell_type": "code",
   "execution_count": 43,
   "metadata": {},
   "outputs": [
    {
     "data": {
      "text/plain": [
       "[1, 2, 3, 5, 7, 11, 13, 17, 19]"
      ]
     },
     "execution_count": 43,
     "metadata": {},
     "output_type": "execute_result"
    }
   ],
   "source": [
    "result = []\n",
    "\n",
    "for i in range(1,20):\n",
    "    if find_prime_number_2(i) != None:\n",
    "        result.append(i)\n",
    "\n",
    "result"
   ]
  }
 ],
 "metadata": {
  "kernelspec": {
   "display_name": "Python 3",
   "language": "python",
   "name": "python3"
  },
  "language_info": {
   "codemirror_mode": {
    "name": "ipython",
    "version": 3
   },
   "file_extension": ".py",
   "mimetype": "text/x-python",
   "name": "python",
   "nbconvert_exporter": "python",
   "pygments_lexer": "ipython3",
   "version": "3.12.1"
  }
 },
 "nbformat": 4,
 "nbformat_minor": 2
}
