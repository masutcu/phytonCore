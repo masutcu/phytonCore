{
 "cells": [
  {
   "cell_type": "markdown",
   "metadata": {},
   "source": [
    "# Function"
   ]
  },
  {
   "cell_type": "code",
   "execution_count": null,
   "metadata": {},
   "outputs": [],
   "source": [
    "def fonk_ismi (parametre):\n",
    "    işlem satırı"
   ]
  },
  {
   "cell_type": "code",
   "execution_count": 1,
   "metadata": {},
   "outputs": [],
   "source": [
    "def kareler_toplamı (x,y):\n",
    "    print(x**2+y**2)"
   ]
  },
  {
   "cell_type": "code",
   "execution_count": 2,
   "metadata": {},
   "outputs": [
    {
     "name": "stdout",
     "output_type": "stream",
     "text": [
      "34\n"
     ]
    }
   ],
   "source": [
    "kareler_toplamı(3,5)"
   ]
  },
  {
   "cell_type": "code",
   "execution_count": 3,
   "metadata": {},
   "outputs": [],
   "source": [
    "def karaler_toplamı2(x,y):\n",
    "    \"\"\"Bu fonksiyon iki tane sayının karesini alır ve toplar\"\"\"\n",
    "    print(x**2+y**2)"
   ]
  },
  {
   "cell_type": "code",
   "execution_count": 4,
   "metadata": {},
   "outputs": [
    {
     "name": "stdout",
     "output_type": "stream",
     "text": [
      "61\n"
     ]
    }
   ],
   "source": [
    "karaler_toplamı2(5,6) # üzerine imleç ile gelince açıklama metni çıkar"
   ]
  },
  {
   "cell_type": "code",
   "execution_count": 10,
   "metadata": {},
   "outputs": [],
   "source": [
    "def calculator(num,opr,num2):\n",
    "    if opr==\"+\":\n",
    "        print(num+num2)\n",
    "    elif opr==\"-\":\n",
    "        print(num-num2)\n",
    "    elif opr==\"x\":\n",
    "        print(num*num2)\n",
    "    elif opr==\"/\":\n",
    "        print(num/num2)\n",
    "    else:\n",
    "        print(\"Hatalı giriş\")"
   ]
  },
  {
   "cell_type": "code",
   "execution_count": 11,
   "metadata": {},
   "outputs": [
    {
     "name": "stdout",
     "output_type": "stream",
     "text": [
      "20\n"
     ]
    }
   ],
   "source": [
    "calculator(5,\"x\",4)"
   ]
  },
  {
   "cell_type": "code",
   "execution_count": 12,
   "metadata": {},
   "outputs": [
    {
     "name": "stdout",
     "output_type": "stream",
     "text": [
      "Techpro\n"
     ]
    }
   ],
   "source": [
    "calculator(\"Tech\",\"+\",\"pro\")"
   ]
  },
  {
   "cell_type": "code",
   "execution_count": 17,
   "metadata": {},
   "outputs": [
    {
     "name": "stdout",
     "output_type": "stream",
     "text": [
      "{'e', 'l'}\n"
     ]
    }
   ],
   "source": [
    "calculator(set(\"elif\"),\"-\",set(\"if\"))"
   ]
  },
  {
   "cell_type": "markdown",
   "metadata": {},
   "source": [
    "### ödev: Armstrong number olup olmadığını bulan kodu yazın\n",
    "###### Armstrong Sayı Nedir ? N haneli bir sayının basamaklarının n'inci üstlerinin toplamı, sayının kendisine eşitse, böyle sayılara Armstrong sayı denir. "
   ]
  },
  {
   "cell_type": "code",
   "execution_count": 25,
   "metadata": {},
   "outputs": [
    {
     "name": "stdout",
     "output_type": "stream",
     "text": [
      "[5, 24, 4, 2]\n"
     ]
    }
   ],
   "source": [
    "num7=int(input(\"Bir sayı giriniz\"))\n",
    "sayı=[]\n",
    "\n",
    "while num7/10>1:\n",
    "    son=num7%10\n",
    "    sayı.append(son)\n",
    "    num7=int(num7/10)\n",
    "    sayı.append(num7)\n",
    "   \n",
    "print(sayı)\n",
    "\n",
    "\n"
   ]
  }
 ],
 "metadata": {
  "kernelspec": {
   "display_name": "Python 3",
   "language": "python",
   "name": "python3"
  },
  "language_info": {
   "codemirror_mode": {
    "name": "ipython",
    "version": 3
   },
   "file_extension": ".py",
   "mimetype": "text/x-python",
   "name": "python",
   "nbconvert_exporter": "python",
   "pygments_lexer": "ipython3",
   "version": "3.12.1"
  }
 },
 "nbformat": 4,
 "nbformat_minor": 2
}
