{
 "cells": [
  {
   "cell_type": "markdown",
   "metadata": {},
   "source": [
    "1 - Kullanıcıdan input ile iki veri alın. Bu veriler tamsayı ise çarpımını yazdırın. "
   ]
  },
  {
   "cell_type": "code",
   "execution_count": 9,
   "metadata": {},
   "outputs": [
    {
     "name": "stdout",
     "output_type": "stream",
     "text": [
      "650\n"
     ]
    }
   ],
   "source": [
    "#bu soru tam anlaşımıyor. gelen değer zaten str, tamsayıya çevirmek elimizde o yüzden if statement kullanmadım\n",
    "sayı1=input(\"bir sayı giriniz\")\n",
    "sayı2=input(\"bir başka sayı giriniz\")\n",
    "if sayı1.isdigit() and sayı2.isdigit():\n",
    "    print(int(sayı1)*int(sayı2))\n",
    "else: print(\"girilen sayı numeric değil\")\n"
   ]
  },
  {
   "cell_type": "markdown",
   "metadata": {},
   "source": [
    "2 - Kullanıcıdan bir sayı isteyin. Sayı tek ise 2 katını çift ise karesini yazdırın. "
   ]
  },
  {
   "cell_type": "code",
   "execution_count": 28,
   "metadata": {},
   "outputs": [
    {
     "name": "stdout",
     "output_type": "stream",
     "text": [
      "484\n"
     ]
    }
   ],
   "source": [
    "sayı3=int(input(\"bir sayı giriniz\"))\n",
    "if sayı3%2==0:\n",
    "    print(sayı3**2)\n",
    "elif sayı3%2==1:\n",
    "    print(sayı3*2)"
   ]
  },
  {
   "cell_type": "markdown",
   "metadata": {},
   "source": [
    "3 - Kullanıcıdan iki tam sayı isteyin. Sayılar eşitse veya sayıların farkı 5 in katı ise True döndüren algoritmayı yazın. Aksi taktirde False çıktısı almalısınız"
   ]
  },
  {
   "cell_type": "code",
   "execution_count": 37,
   "metadata": {},
   "outputs": [
    {
     "name": "stdout",
     "output_type": "stream",
     "text": [
      "True\n"
     ]
    }
   ],
   "source": [
    "sayı1=int(input(\"bir sayı giriniz\"))\n",
    "sayı2=int(input(\"bir başka sayı giriniz\"))\n",
    "\n",
    "if sayı1==sayı2:\n",
    "     print(True)\n",
    "elif (sayı1-sayı2)%5==0:\n",
    "     print(True) \n",
    "else: print(False)\n"
   ]
  },
  {
   "cell_type": "code",
   "execution_count": 10,
   "metadata": {},
   "outputs": [
    {
     "name": "stdout",
     "output_type": "stream",
     "text": [
      "True\n"
     ]
    }
   ],
   "source": [
    "#veya\n",
    "x=int(input(\"bir sayı giriniz\"))\n",
    "y=int(input(\"bir başka sayı giriniz\"))\n",
    "\n",
    "print(x== y or (x-y)%5==0)"
   ]
  },
  {
   "cell_type": "markdown",
   "metadata": {},
   "source": [
    "4 - Kullanıcıya sınavdan aldığı notu sorunuz. Denk gelen Harf notunu yazdırın. 0-100 aralığı        dışında girilen notların geçersiz olduğuu belirtmeyi unutmayın. \n",
    "    80 - 100 aralığı \"A\",\n",
    "    65 - 79 aralığı \"B\",\n",
    "    55 - 64 aralığı \"C\",\n",
    "    35 - 54 aralığı \"D\",\n",
    "    0 - 34 aralığı \"F\""
   ]
  },
  {
   "cell_type": "code",
   "execution_count": 38,
   "metadata": {},
   "outputs": [
    {
     "name": "stdout",
     "output_type": "stream",
     "text": [
      "Notunuz B\n"
     ]
    }
   ],
   "source": [
    "point=int(input(\"Sınav notunuzu giriniz\"))\n",
    "if 0<=point<35:\n",
    "    print(\"Notunuz F\")\n",
    "elif point<55:\n",
    "    print(\"Notunuz D\")\n",
    "elif point<65:\n",
    "    print(\"Notunuz C\")\n",
    "elif point<80:\n",
    "    print(\"Notunuz B\")\n",
    "elif point<101:\n",
    "    print(\"Notunuz A\")\n",
    "else: print(\"notunuzu doğru girmediniz\")\n"
   ]
  },
  {
   "cell_type": "code",
   "execution_count": 11,
   "metadata": {},
   "outputs": [
    {
     "name": "stdout",
     "output_type": "stream",
     "text": [
      "Sınav notunuz: 22.5\n",
      "Notunuzun harf karşılığı: F\n"
     ]
    }
   ],
   "source": [
    "#hocanın çözümü\n",
    "x = float(input(\"Lütfen sınav notunuzu giriniz\"))\n",
    "\n",
    "if 0 <= x <= 100:\n",
    "    if x >= 80:\n",
    "        harf_notu = \"A\"\n",
    "    elif x >= 65:\n",
    "        harf_notu = \"B\"\n",
    "    elif x >= 55:\n",
    "        harf_notu = \"C\"\n",
    "    elif x >= 35:\n",
    "        harf_notu = \"D\"\n",
    "    else:\n",
    "        harf_notu = \"F\"\n",
    "        \n",
    "    print(f\"Sınav notunuz: {x}\\nNotunuzun harf karşılığı: {harf_notu}\")\n",
    "else:\n",
    "    print(\"Sınav notunuzu lütfen 0 ile 100 arasında giriniz.\")"
   ]
  },
  {
   "cell_type": "code",
   "execution_count": 13,
   "metadata": {},
   "outputs": [
    {
     "name": "stdout",
     "output_type": "stream",
     "text": [
      "25.0 36.0 52.0\n"
     ]
    }
   ],
   "source": [
    "#bir kerede 3 input alma\n",
    "x,y,z=float(input(\"Lütfen 1.sınav notunuzu giriniz\")), float(input(\"Lütfen 2. sınav notunuzu giriniz\")), float(input(\"Lütfen 3. sınav notunuzu giriniz\"))\n",
    "print(x,y,z)"
   ]
  },
  {
   "cell_type": "markdown",
   "metadata": {},
   "source": [
    "5 - Kullanıcıdan bir saniye değeri girmesini isteyin. girilen saniyeyi saat dakika ve sn cinsinden yazdırın. \n",
    "örn: 19520 sn >> 5 saat, 25 dk, 20 saniye "
   ]
  },
  {
   "cell_type": "code",
   "execution_count": 1,
   "metadata": {},
   "outputs": [
    {
     "name": "stdout",
     "output_type": "stream",
     "text": [
      "Girdiğiniz saniye değeri 1 saat 0 dakika 0 saniyeye eşittir\n"
     ]
    }
   ],
   "source": [
    "saniye=int(input(\"saniye değeri girin\"))\n",
    "saat=int(saniye/3600)\n",
    "dakika=int(saniye/60)\n",
    "if dakika>59:\n",
    "    dakika=(dakika%60)\n",
    "saniye2=saniye%60\n",
    "print(\"Girdiğiniz saniye değeri\",saat,\"saat\",dakika,\"dakika\",saniye2,\"saniyeye eşittir\")"
   ]
  },
  {
   "cell_type": "code",
   "execution_count": 14,
   "metadata": {},
   "outputs": [
    {
     "name": "stdout",
     "output_type": "stream",
     "text": [
      "Girdiğiniz 3600 saniye = 1 saat, 0 dakika ve 0 saniye eder\n"
     ]
    }
   ],
   "source": [
    "# hocanın çözümü\n",
    "girilen_saniye = int(input(\"Lütfen hesaplanmasını istediğiniz saniye değerini giriniz:\"))\n",
    "\n",
    "saat = girilen_saniye // 3600\n",
    "\n",
    "dakika = (girilen_saniye % 3600) // 60\n",
    "\n",
    "saniye = girilen_saniye % 60\n",
    "\n",
    "print(f\"Girdiğiniz {girilen_saniye} saniye = {saat} saat, {dakika} dakika ve {saniye} saniye eder\")"
   ]
  },
  {
   "cell_type": "markdown",
   "metadata": {},
   "source": [
    "### round()"
   ]
  },
  {
   "cell_type": "code",
   "execution_count": 15,
   "metadata": {},
   "outputs": [
    {
     "data": {
      "text/plain": [
       "24"
      ]
     },
     "execution_count": 15,
     "metadata": {},
     "output_type": "execute_result"
    }
   ],
   "source": [
    "round(24.1)"
   ]
  },
  {
   "cell_type": "code",
   "execution_count": 16,
   "metadata": {},
   "outputs": [
    {
     "data": {
      "text/plain": [
       "25"
      ]
     },
     "execution_count": 16,
     "metadata": {},
     "output_type": "execute_result"
    }
   ],
   "source": [
    "round(24.63)"
   ]
  },
  {
   "cell_type": "code",
   "execution_count": 17,
   "metadata": {},
   "outputs": [
    {
     "data": {
      "text/plain": [
       "130.57"
      ]
     },
     "execution_count": 17,
     "metadata": {},
     "output_type": "execute_result"
    }
   ],
   "source": [
    "round(130.568,2)"
   ]
  },
  {
   "cell_type": "code",
   "execution_count": 18,
   "metadata": {},
   "outputs": [
    {
     "data": {
      "text/plain": [
       "130.6"
      ]
     },
     "execution_count": 18,
     "metadata": {},
     "output_type": "execute_result"
    }
   ],
   "source": [
    "round(130.568,1)"
   ]
  },
  {
   "cell_type": "code",
   "execution_count": 20,
   "metadata": {},
   "outputs": [
    {
     "data": {
      "text/plain": [
       "130.0"
      ]
     },
     "execution_count": 20,
     "metadata": {},
     "output_type": "execute_result"
    }
   ],
   "source": [
    "round(130.568,-1)"
   ]
  },
  {
   "cell_type": "code",
   "execution_count": 19,
   "metadata": {},
   "outputs": [
    {
     "data": {
      "text/plain": [
       "100.0"
      ]
     },
     "execution_count": 19,
     "metadata": {},
     "output_type": "execute_result"
    }
   ],
   "source": [
    "round(130.568,-2)"
   ]
  },
  {
   "cell_type": "markdown",
   "metadata": {},
   "source": [
    "### Strings\n"
   ]
  },
  {
   "cell_type": "code",
   "execution_count": 21,
   "metadata": {},
   "outputs": [
    {
     "data": {
      "text/plain": [
       "'chp'"
      ]
     },
     "execution_count": 21,
     "metadata": {},
     "output_type": "execute_result"
    }
   ],
   "source": [
    "\"techpro\"[2:5] #slicing"
   ]
  },
  {
   "cell_type": "markdown",
   "metadata": {},
   "source": [
    "### f string, format string"
   ]
  },
  {
   "cell_type": "code",
   "execution_count": 22,
   "metadata": {},
   "outputs": [
    {
     "name": "stdout",
     "output_type": "stream",
     "text": [
      "My name is ahmet akgün and\n",
      "I'm 45 years old\n"
     ]
    }
   ],
   "source": [
    "#format\n",
    "name=\"ahmet\"\n",
    "surname=\"akgün\"\n",
    "age=45\n",
    "\n",
    "selamlama= \"My name is {} {} and\\nI'm {} years old.\".format(name, surname, age)\n",
    "print(selamlama)"
   ]
  },
  {
   "cell_type": "code",
   "execution_count": 23,
   "metadata": {},
   "outputs": [
    {
     "name": "stdout",
     "output_type": "stream",
     "text": [
      "My name is ahmet akgün and\n",
      "I'm 45 years old.\n"
     ]
    }
   ],
   "source": [
    "#format\n",
    "name=\"ahmet\"\n",
    "surname=\"akgün\"\n",
    "age=45\n",
    "\n",
    "selamlama= \"My name is {1} {2} and\\nI'm {0} years old.\".format(age,name, surname ) #sayı vererek karışıkda olabilir\n",
    "print(selamlama)"
   ]
  },
  {
   "cell_type": "code",
   "execution_count": null,
   "metadata": {},
   "outputs": [],
   "source": [
    "# harf ile tanımlamada olabilir\n",
    "name = \"Ahmet\"\n",
    "surName = \"Altın\"\n",
    "age = 36\n",
    "\n",
    "greeting = \"My name is {n} {s} and \\nI'm {a} years old.\".format(s=surName, n=name, a=age)\n",
    "\n",
    "print(greeting)"
   ]
  },
  {
   "cell_type": "code",
   "execution_count": 24,
   "metadata": {},
   "outputs": [
    {
     "name": "stdout",
     "output_type": "stream",
     "text": [
      "My name is Ahmet Altın and \n",
      "I'm 36 years old.\n"
     ]
    }
   ],
   "source": [
    "# f string\n",
    "name = \"Ahmet\"\n",
    "surName = \"Altın\"\n",
    "age = 36\n",
    "\n",
    "greeting = f\"My name is {name} {surName} and \\nI'm {age} years old.\"\n",
    "\n",
    "print(greeting)"
   ]
  },
  {
   "cell_type": "code",
   "execution_count": 26,
   "metadata": {},
   "outputs": [
    {
     "name": "stdout",
     "output_type": "stream",
     "text": [
      "M_y_ _n_a_m_e_ _i_s_ _A_h_m_e_t_ _A_l_t_ı_n_ _a_n_d_ _\n",
      "_I_'_m_ _3_6_ _y_e_a_r_s_ _o_l_d_.\n"
     ]
    }
   ],
   "source": [
    "print(*greeting, sep=\"_\") #önce karakter arasına boşluk koyar, sonra boşlukları altçizgi ile doldurur"
   ]
  },
  {
   "cell_type": "code",
   "execution_count": 27,
   "metadata": {},
   "outputs": [
    {
     "name": "stdout",
     "output_type": "stream",
     "text": [
      "M y   n a m e   i s   A h m e t   A l t ı n   a n d   \n",
      " I ' m   3 6   y e a r s   o l d .\n"
     ]
    }
   ],
   "source": [
    "print(*greeting) # karakterler arasına boşluk atar"
   ]
  },
  {
   "cell_type": "code",
   "execution_count": 28,
   "metadata": {},
   "outputs": [
    {
     "name": "stdout",
     "output_type": "stream",
     "text": [
      "BU YAZIYI FARKETMENIZLE\n",
      "fark etmemeni̇zi̇n,\n",
      "Hiç bir şey fark etmediğini\n",
      "Fark Edeceksi̇ni̇z.\n"
     ]
    }
   ],
   "source": [
    "print(\"bu yazıyı farketmenizle\".upper(),\n",
    "      \"FARK ETMEMENİZİN,\".lower(),\n",
    "      \"hiç bir şey fark etmediğini\".capitalize(),\n",
    "      \"fARK eDECEKSİNİZ.\".title(),\n",
    "      sep=\"\\n\")"
   ]
  },
  {
   "cell_type": "code",
   "execution_count": 35,
   "metadata": {},
   "outputs": [
    {
     "name": "stdout",
     "output_type": "stream",
     "text": [
      "Çeko☺\n",
      "lavakyalılaştıramadıklarımızdan mı☺\n",
      "ınız?♥\n"
     ]
    }
   ],
   "source": [
    "str5=\"Çekoslavakyalılaştıramadıklarımızdan mısınız?♥\"\n",
    "print(*str5.split(\"s\"), sep=\"☺\\n\")"
   ]
  },
  {
   "cell_type": "code",
   "execution_count": 32,
   "metadata": {},
   "outputs": [],
   "source": [
    "str6=\"techpro\""
   ]
  },
  {
   "cell_type": "code",
   "execution_count": 33,
   "metadata": {},
   "outputs": [
    {
     "name": "stdout",
     "output_type": "stream",
     "text": [
      "*******************************************techpro\n"
     ]
    }
   ],
   "source": [
    "print(str6.rjust(50,\"*\"))"
   ]
  },
  {
   "cell_type": "code",
   "execution_count": 34,
   "metadata": {},
   "outputs": [
    {
     "name": "stdout",
     "output_type": "stream",
     "text": [
      "techpro*******************************************\n"
     ]
    }
   ],
   "source": [
    "print(str6.ljust(50,\"*\"))"
   ]
  }
 ],
 "metadata": {
  "kernelspec": {
   "display_name": "base",
   "language": "python",
   "name": "python3"
  },
  "language_info": {
   "codemirror_mode": {
    "name": "ipython",
    "version": 3
   },
   "file_extension": ".py",
   "mimetype": "text/x-python",
   "name": "python",
   "nbconvert_exporter": "python",
   "pygments_lexer": "ipython3",
   "version": "3.12.1"
  },
  "orig_nbformat": 4
 },
 "nbformat": 4,
 "nbformat_minor": 2
}
