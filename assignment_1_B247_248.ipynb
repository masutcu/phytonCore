{
 "cells": [
  {
   "cell_type": "markdown",
   "metadata": {},
   "source": [
    "1 - Kullanıcıdan input ile iki veri alın. Bu veriler tamsayı ise çarpımını yazdırın. "
   ]
  },
  {
   "cell_type": "code",
   "execution_count": 26,
   "metadata": {},
   "outputs": [
    {
     "name": "stdout",
     "output_type": "stream",
     "text": [
      "575\n"
     ]
    }
   ],
   "source": [
    "#bu soru tam anlaşımıyor. gelen değer zaten str, tamsayıya çevirmek elimizde o yüzden if statement kullanmadım\n",
    "sayı1=int(input(\"bir sayı giriniz\"))\n",
    "sayı2=int(input(\"bir başka sayı giriniz\"))\n",
    "toplam=sayı1*sayı2\n",
    "print(toplam)"
   ]
  },
  {
   "cell_type": "markdown",
   "metadata": {},
   "source": [
    "2 - Kullanıcıdan bir sayı isteyin. Sayı tek ise 2 katını çift ise karesini yazdırın. "
   ]
  },
  {
   "cell_type": "code",
   "execution_count": 28,
   "metadata": {},
   "outputs": [
    {
     "name": "stdout",
     "output_type": "stream",
     "text": [
      "484\n"
     ]
    }
   ],
   "source": [
    "sayı3=int(input(\"bir sayı giriniz\"))\n",
    "if sayı3%2==0:\n",
    "    print(sayı3**2)\n",
    "elif sayı3%2==1:\n",
    "    print(sayı3*2)"
   ]
  },
  {
   "cell_type": "markdown",
   "metadata": {},
   "source": [
    "3 - Kullanıcıdan iki tam sayı isteyin. Sayılar eşitse veya sayıların farkı 5 in katı ise True döndüren algoritmayı yazın. Aksi taktirde False çıktısı almalısınız"
   ]
  },
  {
   "cell_type": "code",
   "execution_count": 37,
   "metadata": {},
   "outputs": [
    {
     "name": "stdout",
     "output_type": "stream",
     "text": [
      "True\n"
     ]
    }
   ],
   "source": [
    "sayı1=int(input(\"bir sayı giriniz\"))\n",
    "sayı2=int(input(\"bir başka sayı giriniz\"))\n",
    "\n",
    "if sayı1==sayı2:\n",
    "     print(True)\n",
    "elif (sayı1-sayı2)%5==0:\n",
    "     print(True) \n",
    "else: print(False)\n"
   ]
  },
  {
   "cell_type": "markdown",
   "metadata": {},
   "source": [
    "4 - Kullanıcıya sınavdan aldığı notu sorunuz. Denk gelen Harf notunu yazdırın. 0-100 aralığı        dışında girilen notların geçersiz olduğuu belirtmeyi unutmayın. \n",
    "    80 - 100 aralığı \"A\",\n",
    "    65 - 79 aralığı \"B\",\n",
    "    55 - 64 aralığı \"C\",\n",
    "    35 - 54 aralığı \"D\",\n",
    "    0 - 34 aralığı \"F\""
   ]
  },
  {
   "cell_type": "code",
   "execution_count": 38,
   "metadata": {},
   "outputs": [
    {
     "name": "stdout",
     "output_type": "stream",
     "text": [
      "Notunuz B\n"
     ]
    }
   ],
   "source": [
    "point=int(input(\"Sınav notunuzu giriniz\"))\n",
    "if 0<=point<35:\n",
    "    print(\"Notunuz F\")\n",
    "elif point<55:\n",
    "    print(\"Notunuz D\")\n",
    "elif point<65:\n",
    "    print(\"Notunuz C\")\n",
    "elif point<80:\n",
    "    print(\"Notunuz B\")\n",
    "elif point<101:\n",
    "    print(\"Notunuz A\")\n",
    "else: print(\"notunuzu doğru girmediniz\")\n"
   ]
  },
  {
   "cell_type": "markdown",
   "metadata": {},
   "source": [
    "5 - Kullanıcıdan bir saniye değeri girmesini isteyin. girilen saniyeyi saat dakika ve sn cinsinden yazdırın. \n",
    "örn: 19520 sn >> 5 saat, 25 dk, 20 saniye "
   ]
  },
  {
   "cell_type": "code",
   "execution_count": 56,
   "metadata": {},
   "outputs": [
    {
     "name": "stdout",
     "output_type": "stream",
     "text": [
      "Girdiğiniz saniye değeri 0 saat 0 dakika 12 saniyeye eşittir\n"
     ]
    }
   ],
   "source": [
    "saniye=int(input(\"saniye değeri girin\"))\n",
    "saat=int(saniye/3600)\n",
    "dakika=int(saniye/60)\n",
    "if dakika>59:\n",
    "    dakika=(dakika%60)\n",
    "saniye2=saniye%60\n",
    "print(\"Girdiğiniz saniye değeri\",saat,\"saat\",dakika,\"dakika\",saniye2,\"saniyeye eşittir\")"
   ]
  }
 ],
 "metadata": {
  "kernelspec": {
   "display_name": "base",
   "language": "python",
   "name": "python3"
  },
  "language_info": {
   "codemirror_mode": {
    "name": "ipython",
    "version": 3
   },
   "file_extension": ".py",
   "mimetype": "text/x-python",
   "name": "python",
   "nbconvert_exporter": "python",
   "pygments_lexer": "ipython3",
   "version": "3.12.1"
  },
  "orig_nbformat": 4
 },
 "nbformat": 4,
 "nbformat_minor": 2
}
