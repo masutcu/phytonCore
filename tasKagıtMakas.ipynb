{
 "cells": [
  {
   "cell_type": "markdown",
   "metadata": {},
   "source": [
    "# tas kağıt makas"
   ]
  },
  {
   "cell_type": "code",
   "execution_count": 10,
   "metadata": {},
   "outputs": [
    {
     "name": "stdout",
     "output_type": "stream",
     "text": [
      "berabere\n",
      "kazanan bilgisayar\n",
      "kazanan sensin\n",
      "kazanan bilgisayar\n",
      "kazanan sensin\n",
      "berabere\n",
      "berabere\n",
      "kazanan bilgisayar\n",
      "kazanan bilgisayar\n",
      "berabere\n",
      "OYUN BİTTİ, Ne Yazık ki Kaybettin....\n",
      "senin puanın :40, bilgisayarın puanı :60, GAME OVER\n"
     ]
    }
   ],
   "source": [
    "a = input(\"*****   TAŞ KAĞIT MAKAS OYUNUNA HOŞ GELDİN   *******\")\n",
    "\n",
    "import random\n",
    "pc_list = [\"t\", \"k\", \"m\"]\n",
    "\n",
    "counter=0\n",
    "computer=0\n",
    "sen=0\n",
    "\n",
    "while counter != 10:\n",
    "\n",
    "    pc = pc_list[random.randint(0,2)]\n",
    "\n",
    "    you = input(\"birini seç: t: taş, m: makas, k: kağıt\").lower()\n",
    "\n",
    "    if (pc == \"t\" and you == \"m\") or (pc == \"m\" and you == \"k\") or (pc == \"k\" and you == \"t\"):\n",
    "        computer += 10\n",
    "        print(\"kazanan bilgisayar\")\n",
    "        \n",
    "    elif (pc == \"m\" and you == \"t\") or (pc == \"k\" and you == \"m\") or (pc == \"t\" and you == \"k\"):\n",
    "        sen += 10\n",
    "        print(\"kazanan sensin\")\n",
    "        \n",
    "    elif (pc == \"m\" and you == \"m\") or (pc == \"k\" and you == \"k\") or (pc == \"t\" and you == \"t\"):\n",
    "        sen += 5\n",
    "        computer +=5\n",
    "        print(\"berabere\")      \n",
    "\n",
    "    else:\n",
    "        print(\"hatalı giriş\")\n",
    "\n",
    "    counter += 1\n",
    "\n",
    "if sen > computer:\n",
    "    print (\"OYUN BİTTİ, Tebrikler Kazandın.\")\n",
    "elif sen < computer:\n",
    "    print (\"OYUN BİTTİ, Ne Yazık ki Kaybettin....\")\n",
    "elif sen == computer:\n",
    "    print (\"Berabere Bitti\")\n",
    "\n",
    "print(f\"senin puanın :{sen}, bilgisayarın puanı :{computer}, GAME OVER\")"
   ]
  }
 ],
 "metadata": {
  "kernelspec": {
   "display_name": "Python 3",
   "language": "python",
   "name": "python3"
  },
  "language_info": {
   "codemirror_mode": {
    "name": "ipython",
    "version": 3
   },
   "file_extension": ".py",
   "mimetype": "text/x-python",
   "name": "python",
   "nbconvert_exporter": "python",
   "pygments_lexer": "ipython3",
   "version": "3.12.1"
  }
 },
 "nbformat": 4,
 "nbformat_minor": 2
}
